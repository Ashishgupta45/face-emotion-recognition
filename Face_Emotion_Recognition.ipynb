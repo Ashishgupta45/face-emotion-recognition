{
  "nbformat": 4,
  "nbformat_minor": 0,
  "metadata": {
    "colab": {
      "name": "Face Emotion Recognition.ipynb",
      "provenance": [],
      "authorship_tag": "ABX9TyNzj79k2hv5/ri1HmOHJFF/",
      "include_colab_link": true
    },
    "kernelspec": {
      "name": "python3",
      "display_name": "Python 3"
    },
    "language_info": {
      "name": "python"
    },
    "accelerator": "GPU"
  },
  "cells": [
    {
      "cell_type": "markdown",
      "metadata": {
        "id": "view-in-github",
        "colab_type": "text"
      },
      "source": [
        "<a href=\"https://colab.research.google.com/github/Ashishgupta45/face-emotion-recognition/blob/main/Face_Emotion_Recognition.ipynb\" target=\"_parent\"><img src=\"https://colab.research.google.com/assets/colab-badge.svg\" alt=\"Open In Colab\"/></a>"
      ]
    },
    {
      "cell_type": "markdown",
      "source": [
        "# Problem Statements\n",
        "The Indian education landscape has been undergoing rapid changes for the past 10 years owing to the advancement of web-based learning services, specifically, eLearning platforms.\n",
        "\n",
        "Global E-learning is estimated to witness an 8X over the next 5 years to reach USD 2B in 2021. India is expected to grow with a CAGR of 44% crossing the 10M users mark in 2021. Although the market is growing on a rapid scale, there are major challenges associated with digital learning when compared with brick and mortar classrooms. One of many challenges is how to ensure quality learning for students. Digital platforms might overpower physical classrooms in terms of content quality but when it comes to understanding whether students are able to grasp the content in a live class scenario is yet an open-end challenge.\n",
        "\n",
        "In a physical classroom during a lecturing teacher can see the faces and assess the emotion of the class and tune their lecture accordingly, whether he is going fast or slow. He can identify students who need special attention. Digital classrooms are conducted via video telephony software program (exZoom) where it’s not possible for medium scale class (25-50) to see all students and access the mood. Because of this drawback, students are not focusing on content due to lack of surveillance. While digital platforms have limitations in terms of physical surveillance but it comes with the power of data and machines which can work for you. It provides data in the form of video, audio, and texts which can be analysed using deep learning algorithms. Deep learning backed system not only solves the surveillance issue, but it also removes the human bias from the system, and all information is no longer in the teacher’s brain rather translated in numbers that can be analysed and tracked.\n",
        "\n",
        "We will solve the above-mentioned challenge by applying deep learning algorithms to live video data. The solution to this problem is by recognizing facial emotions."
      ],
      "metadata": {
        "id": "2PVnLJePomMr"
      }
    },
    {
      "cell_type": "markdown",
      "source": [
        "### pretrained models\n",
        "https://www.vlfeat.org/matconvnet/pretrained/"
      ],
      "metadata": {
        "id": "JcNliqU941-o"
      }
    },
    {
      "cell_type": "markdown",
      "source": [
        "Head-start References\n",
        "❖ https://towardsdatascience.com/face-detection-recognition-and-emotion-detection-in-8-lines-of-code-b2ce32d4d5de"
      ],
      "metadata": {
        "id": "HaJ7ubamqg3B"
      }
    },
    {
      "cell_type": "markdown",
      "source": [
        "<img target=\"_blank\" src=\"https://149695847.v2.pressablecdn.com/wp-content/uploads/2020/10/face_emotion.png\" width=1000; height=500>"
      ],
      "metadata": {
        "id": "WgsSJctvpe-t"
      }
    },
    {
      "cell_type": "code",
      "execution_count": 1,
      "metadata": {
        "id": "-JFfHyKCoiLZ"
      },
      "outputs": [],
      "source": [
        "# importing required libraries\n",
        "import numpy as np\n",
        "import pandas as pd\n",
        "import matplotlib.pyplot as plt"
      ]
    },
    {
      "cell_type": "code",
      "source": [
        "# importing deep learning libraries\n",
        "from tensorflow.keras.preprocessing.image import ImageDataGenerator, img_to_array, load_img\n",
        "from tensorflow.keras.layers import Dense, Input, Dropout,Flatten, Conv2D, Embedding\n",
        "from tensorflow.keras.layers import BatchNormalization, Activation, MaxPooling2D\n",
        "from tensorflow.keras.models import Model, Sequential\n",
        "from tensorflow.keras.optimizers import Adam\n",
        "from tensorflow.keras.losses import categorical_crossentropy\n",
        "from tensorflow.keras.callbacks import ModelCheckpoint, ReduceLROnPlateau\n",
        "# from keras.applications.mobilenet import MobileNet, preprocess_input"
      ],
      "metadata": {
        "id": "0n4O3V0Evkjs"
      },
      "execution_count": 2,
      "outputs": []
    },
    {
      "cell_type": "code",
      "source": [
        "from google.colab import drive\n",
        "drive.mount('/content/drive')"
      ],
      "metadata": {
        "colab": {
          "base_uri": "https://localhost:8080/"
        },
        "id": "ZVAo9PNJbI5U",
        "outputId": "d366be3a-9710-42dc-ef60-a516800be547"
      },
      "execution_count": 3,
      "outputs": [
        {
          "output_type": "stream",
          "name": "stdout",
          "text": [
            "Mounted at /content/drive\n"
          ]
        }
      ]
    },
    {
      "cell_type": "code",
      "source": [
        "# Load the dataset\n",
        "df = pd.read_csv(\"/content/drive/My Drive/Ashish Deep Learning /fer2013.csv\") "
      ],
      "metadata": {
        "id": "PxTycXEwbIup"
      },
      "execution_count": 4,
      "outputs": []
    },
    {
      "cell_type": "code",
      "source": [
        "df.head()"
      ],
      "metadata": {
        "colab": {
          "base_uri": "https://localhost:8080/",
          "height": 206
        },
        "id": "jt8Q0RkabIsI",
        "outputId": "b3020422-88db-494e-8d8d-7d4ad74201b0"
      },
      "execution_count": 5,
      "outputs": [
        {
          "output_type": "execute_result",
          "data": {
            "text/html": [
              "\n",
              "  <div id=\"df-86874112-f2e3-473d-97ba-3ccb97a31599\">\n",
              "    <div class=\"colab-df-container\">\n",
              "      <div>\n",
              "<style scoped>\n",
              "    .dataframe tbody tr th:only-of-type {\n",
              "        vertical-align: middle;\n",
              "    }\n",
              "\n",
              "    .dataframe tbody tr th {\n",
              "        vertical-align: top;\n",
              "    }\n",
              "\n",
              "    .dataframe thead th {\n",
              "        text-align: right;\n",
              "    }\n",
              "</style>\n",
              "<table border=\"1\" class=\"dataframe\">\n",
              "  <thead>\n",
              "    <tr style=\"text-align: right;\">\n",
              "      <th></th>\n",
              "      <th>emotion</th>\n",
              "      <th>pixels</th>\n",
              "      <th>Usage</th>\n",
              "    </tr>\n",
              "  </thead>\n",
              "  <tbody>\n",
              "    <tr>\n",
              "      <th>0</th>\n",
              "      <td>0</td>\n",
              "      <td>70 80 82 72 58 58 60 63 54 58 60 48 89 115 121...</td>\n",
              "      <td>Training</td>\n",
              "    </tr>\n",
              "    <tr>\n",
              "      <th>1</th>\n",
              "      <td>0</td>\n",
              "      <td>151 150 147 155 148 133 111 140 170 174 182 15...</td>\n",
              "      <td>Training</td>\n",
              "    </tr>\n",
              "    <tr>\n",
              "      <th>2</th>\n",
              "      <td>2</td>\n",
              "      <td>231 212 156 164 174 138 161 173 182 200 106 38...</td>\n",
              "      <td>Training</td>\n",
              "    </tr>\n",
              "    <tr>\n",
              "      <th>3</th>\n",
              "      <td>4</td>\n",
              "      <td>24 32 36 30 32 23 19 20 30 41 21 22 32 34 21 1...</td>\n",
              "      <td>Training</td>\n",
              "    </tr>\n",
              "    <tr>\n",
              "      <th>4</th>\n",
              "      <td>6</td>\n",
              "      <td>4 0 0 0 0 0 0 0 0 0 0 0 3 15 23 28 48 50 58 84...</td>\n",
              "      <td>Training</td>\n",
              "    </tr>\n",
              "  </tbody>\n",
              "</table>\n",
              "</div>\n",
              "      <button class=\"colab-df-convert\" onclick=\"convertToInteractive('df-86874112-f2e3-473d-97ba-3ccb97a31599')\"\n",
              "              title=\"Convert this dataframe to an interactive table.\"\n",
              "              style=\"display:none;\">\n",
              "        \n",
              "  <svg xmlns=\"http://www.w3.org/2000/svg\" height=\"24px\"viewBox=\"0 0 24 24\"\n",
              "       width=\"24px\">\n",
              "    <path d=\"M0 0h24v24H0V0z\" fill=\"none\"/>\n",
              "    <path d=\"M18.56 5.44l.94 2.06.94-2.06 2.06-.94-2.06-.94-.94-2.06-.94 2.06-2.06.94zm-11 1L8.5 8.5l.94-2.06 2.06-.94-2.06-.94L8.5 2.5l-.94 2.06-2.06.94zm10 10l.94 2.06.94-2.06 2.06-.94-2.06-.94-.94-2.06-.94 2.06-2.06.94z\"/><path d=\"M17.41 7.96l-1.37-1.37c-.4-.4-.92-.59-1.43-.59-.52 0-1.04.2-1.43.59L10.3 9.45l-7.72 7.72c-.78.78-.78 2.05 0 2.83L4 21.41c.39.39.9.59 1.41.59.51 0 1.02-.2 1.41-.59l7.78-7.78 2.81-2.81c.8-.78.8-2.07 0-2.86zM5.41 20L4 18.59l7.72-7.72 1.47 1.35L5.41 20z\"/>\n",
              "  </svg>\n",
              "      </button>\n",
              "      \n",
              "  <style>\n",
              "    .colab-df-container {\n",
              "      display:flex;\n",
              "      flex-wrap:wrap;\n",
              "      gap: 12px;\n",
              "    }\n",
              "\n",
              "    .colab-df-convert {\n",
              "      background-color: #E8F0FE;\n",
              "      border: none;\n",
              "      border-radius: 50%;\n",
              "      cursor: pointer;\n",
              "      display: none;\n",
              "      fill: #1967D2;\n",
              "      height: 32px;\n",
              "      padding: 0 0 0 0;\n",
              "      width: 32px;\n",
              "    }\n",
              "\n",
              "    .colab-df-convert:hover {\n",
              "      background-color: #E2EBFA;\n",
              "      box-shadow: 0px 1px 2px rgba(60, 64, 67, 0.3), 0px 1px 3px 1px rgba(60, 64, 67, 0.15);\n",
              "      fill: #174EA6;\n",
              "    }\n",
              "\n",
              "    [theme=dark] .colab-df-convert {\n",
              "      background-color: #3B4455;\n",
              "      fill: #D2E3FC;\n",
              "    }\n",
              "\n",
              "    [theme=dark] .colab-df-convert:hover {\n",
              "      background-color: #434B5C;\n",
              "      box-shadow: 0px 1px 3px 1px rgba(0, 0, 0, 0.15);\n",
              "      filter: drop-shadow(0px 1px 2px rgba(0, 0, 0, 0.3));\n",
              "      fill: #FFFFFF;\n",
              "    }\n",
              "  </style>\n",
              "\n",
              "      <script>\n",
              "        const buttonEl =\n",
              "          document.querySelector('#df-86874112-f2e3-473d-97ba-3ccb97a31599 button.colab-df-convert');\n",
              "        buttonEl.style.display =\n",
              "          google.colab.kernel.accessAllowed ? 'block' : 'none';\n",
              "\n",
              "        async function convertToInteractive(key) {\n",
              "          const element = document.querySelector('#df-86874112-f2e3-473d-97ba-3ccb97a31599');\n",
              "          const dataTable =\n",
              "            await google.colab.kernel.invokeFunction('convertToInteractive',\n",
              "                                                     [key], {});\n",
              "          if (!dataTable) return;\n",
              "\n",
              "          const docLinkHtml = 'Like what you see? Visit the ' +\n",
              "            '<a target=\"_blank\" href=https://colab.research.google.com/notebooks/data_table.ipynb>data table notebook</a>'\n",
              "            + ' to learn more about interactive tables.';\n",
              "          element.innerHTML = '';\n",
              "          dataTable['output_type'] = 'display_data';\n",
              "          await google.colab.output.renderOutput(dataTable, element);\n",
              "          const docLink = document.createElement('div');\n",
              "          docLink.innerHTML = docLinkHtml;\n",
              "          element.appendChild(docLink);\n",
              "        }\n",
              "      </script>\n",
              "    </div>\n",
              "  </div>\n",
              "  "
            ],
            "text/plain": [
              "   emotion                                             pixels     Usage\n",
              "0        0  70 80 82 72 58 58 60 63 54 58 60 48 89 115 121...  Training\n",
              "1        0  151 150 147 155 148 133 111 140 170 174 182 15...  Training\n",
              "2        2  231 212 156 164 174 138 161 173 182 200 106 38...  Training\n",
              "3        4  24 32 36 30 32 23 19 20 30 41 21 22 32 34 21 1...  Training\n",
              "4        6  4 0 0 0 0 0 0 0 0 0 0 0 3 15 23 28 48 50 58 84...  Training"
            ]
          },
          "metadata": {},
          "execution_count": 5
        }
      ]
    },
    {
      "cell_type": "code",
      "source": [
        "df.tail()"
      ],
      "metadata": {
        "colab": {
          "base_uri": "https://localhost:8080/",
          "height": 206
        },
        "id": "G264BWYIdIMy",
        "outputId": "1f722881-e2b5-490b-f272-0c8512d6651b"
      },
      "execution_count": 6,
      "outputs": [
        {
          "output_type": "execute_result",
          "data": {
            "text/html": [
              "\n",
              "  <div id=\"df-bcba4ea0-028d-4b94-8f08-4b5c3e6c5ee3\">\n",
              "    <div class=\"colab-df-container\">\n",
              "      <div>\n",
              "<style scoped>\n",
              "    .dataframe tbody tr th:only-of-type {\n",
              "        vertical-align: middle;\n",
              "    }\n",
              "\n",
              "    .dataframe tbody tr th {\n",
              "        vertical-align: top;\n",
              "    }\n",
              "\n",
              "    .dataframe thead th {\n",
              "        text-align: right;\n",
              "    }\n",
              "</style>\n",
              "<table border=\"1\" class=\"dataframe\">\n",
              "  <thead>\n",
              "    <tr style=\"text-align: right;\">\n",
              "      <th></th>\n",
              "      <th>emotion</th>\n",
              "      <th>pixels</th>\n",
              "      <th>Usage</th>\n",
              "    </tr>\n",
              "  </thead>\n",
              "  <tbody>\n",
              "    <tr>\n",
              "      <th>35882</th>\n",
              "      <td>6</td>\n",
              "      <td>50 36 17 22 23 29 33 39 34 37 37 37 39 43 48 5...</td>\n",
              "      <td>PrivateTest</td>\n",
              "    </tr>\n",
              "    <tr>\n",
              "      <th>35883</th>\n",
              "      <td>3</td>\n",
              "      <td>178 174 172 173 181 188 191 194 196 199 200 20...</td>\n",
              "      <td>PrivateTest</td>\n",
              "    </tr>\n",
              "    <tr>\n",
              "      <th>35884</th>\n",
              "      <td>0</td>\n",
              "      <td>17 17 16 23 28 22 19 17 25 26 20 24 31 19 27 9...</td>\n",
              "      <td>PrivateTest</td>\n",
              "    </tr>\n",
              "    <tr>\n",
              "      <th>35885</th>\n",
              "      <td>3</td>\n",
              "      <td>30 28 28 29 31 30 42 68 79 81 77 67 67 71 63 6...</td>\n",
              "      <td>PrivateTest</td>\n",
              "    </tr>\n",
              "    <tr>\n",
              "      <th>35886</th>\n",
              "      <td>2</td>\n",
              "      <td>19 13 14 12 13 16 21 33 50 57 71 84 97 108 122...</td>\n",
              "      <td>PrivateTest</td>\n",
              "    </tr>\n",
              "  </tbody>\n",
              "</table>\n",
              "</div>\n",
              "      <button class=\"colab-df-convert\" onclick=\"convertToInteractive('df-bcba4ea0-028d-4b94-8f08-4b5c3e6c5ee3')\"\n",
              "              title=\"Convert this dataframe to an interactive table.\"\n",
              "              style=\"display:none;\">\n",
              "        \n",
              "  <svg xmlns=\"http://www.w3.org/2000/svg\" height=\"24px\"viewBox=\"0 0 24 24\"\n",
              "       width=\"24px\">\n",
              "    <path d=\"M0 0h24v24H0V0z\" fill=\"none\"/>\n",
              "    <path d=\"M18.56 5.44l.94 2.06.94-2.06 2.06-.94-2.06-.94-.94-2.06-.94 2.06-2.06.94zm-11 1L8.5 8.5l.94-2.06 2.06-.94-2.06-.94L8.5 2.5l-.94 2.06-2.06.94zm10 10l.94 2.06.94-2.06 2.06-.94-2.06-.94-.94-2.06-.94 2.06-2.06.94z\"/><path d=\"M17.41 7.96l-1.37-1.37c-.4-.4-.92-.59-1.43-.59-.52 0-1.04.2-1.43.59L10.3 9.45l-7.72 7.72c-.78.78-.78 2.05 0 2.83L4 21.41c.39.39.9.59 1.41.59.51 0 1.02-.2 1.41-.59l7.78-7.78 2.81-2.81c.8-.78.8-2.07 0-2.86zM5.41 20L4 18.59l7.72-7.72 1.47 1.35L5.41 20z\"/>\n",
              "  </svg>\n",
              "      </button>\n",
              "      \n",
              "  <style>\n",
              "    .colab-df-container {\n",
              "      display:flex;\n",
              "      flex-wrap:wrap;\n",
              "      gap: 12px;\n",
              "    }\n",
              "\n",
              "    .colab-df-convert {\n",
              "      background-color: #E8F0FE;\n",
              "      border: none;\n",
              "      border-radius: 50%;\n",
              "      cursor: pointer;\n",
              "      display: none;\n",
              "      fill: #1967D2;\n",
              "      height: 32px;\n",
              "      padding: 0 0 0 0;\n",
              "      width: 32px;\n",
              "    }\n",
              "\n",
              "    .colab-df-convert:hover {\n",
              "      background-color: #E2EBFA;\n",
              "      box-shadow: 0px 1px 2px rgba(60, 64, 67, 0.3), 0px 1px 3px 1px rgba(60, 64, 67, 0.15);\n",
              "      fill: #174EA6;\n",
              "    }\n",
              "\n",
              "    [theme=dark] .colab-df-convert {\n",
              "      background-color: #3B4455;\n",
              "      fill: #D2E3FC;\n",
              "    }\n",
              "\n",
              "    [theme=dark] .colab-df-convert:hover {\n",
              "      background-color: #434B5C;\n",
              "      box-shadow: 0px 1px 3px 1px rgba(0, 0, 0, 0.15);\n",
              "      filter: drop-shadow(0px 1px 2px rgba(0, 0, 0, 0.3));\n",
              "      fill: #FFFFFF;\n",
              "    }\n",
              "  </style>\n",
              "\n",
              "      <script>\n",
              "        const buttonEl =\n",
              "          document.querySelector('#df-bcba4ea0-028d-4b94-8f08-4b5c3e6c5ee3 button.colab-df-convert');\n",
              "        buttonEl.style.display =\n",
              "          google.colab.kernel.accessAllowed ? 'block' : 'none';\n",
              "\n",
              "        async function convertToInteractive(key) {\n",
              "          const element = document.querySelector('#df-bcba4ea0-028d-4b94-8f08-4b5c3e6c5ee3');\n",
              "          const dataTable =\n",
              "            await google.colab.kernel.invokeFunction('convertToInteractive',\n",
              "                                                     [key], {});\n",
              "          if (!dataTable) return;\n",
              "\n",
              "          const docLinkHtml = 'Like what you see? Visit the ' +\n",
              "            '<a target=\"_blank\" href=https://colab.research.google.com/notebooks/data_table.ipynb>data table notebook</a>'\n",
              "            + ' to learn more about interactive tables.';\n",
              "          element.innerHTML = '';\n",
              "          dataTable['output_type'] = 'display_data';\n",
              "          await google.colab.output.renderOutput(dataTable, element);\n",
              "          const docLink = document.createElement('div');\n",
              "          docLink.innerHTML = docLinkHtml;\n",
              "          element.appendChild(docLink);\n",
              "        }\n",
              "      </script>\n",
              "    </div>\n",
              "  </div>\n",
              "  "
            ],
            "text/plain": [
              "       emotion                                             pixels        Usage\n",
              "35882        6  50 36 17 22 23 29 33 39 34 37 37 37 39 43 48 5...  PrivateTest\n",
              "35883        3  178 174 172 173 181 188 191 194 196 199 200 20...  PrivateTest\n",
              "35884        0  17 17 16 23 28 22 19 17 25 26 20 24 31 19 27 9...  PrivateTest\n",
              "35885        3  30 28 28 29 31 30 42 68 79 81 77 67 67 71 63 6...  PrivateTest\n",
              "35886        2  19 13 14 12 13 16 21 33 50 57 71 84 97 108 122...  PrivateTest"
            ]
          },
          "metadata": {},
          "execution_count": 6
        }
      ]
    },
    {
      "cell_type": "code",
      "source": [
        "df.info()"
      ],
      "metadata": {
        "colab": {
          "base_uri": "https://localhost:8080/"
        },
        "id": "hPc0pAGtdKV9",
        "outputId": "471ecced-62dc-4a39-f6ec-36d65250b971"
      },
      "execution_count": 7,
      "outputs": [
        {
          "output_type": "stream",
          "name": "stdout",
          "text": [
            "<class 'pandas.core.frame.DataFrame'>\n",
            "RangeIndex: 35887 entries, 0 to 35886\n",
            "Data columns (total 3 columns):\n",
            " #   Column   Non-Null Count  Dtype \n",
            "---  ------   --------------  ----- \n",
            " 0   emotion  35887 non-null  int64 \n",
            " 1   pixels   35887 non-null  object\n",
            " 2   Usage    35887 non-null  object\n",
            "dtypes: int64(1), object(2)\n",
            "memory usage: 841.2+ KB\n"
          ]
        }
      ]
    },
    {
      "cell_type": "code",
      "source": [
        "# Total number of Emotion \n",
        "df.emotion.unique()"
      ],
      "metadata": {
        "colab": {
          "base_uri": "https://localhost:8080/"
        },
        "id": "leroJDsvQYbL",
        "outputId": "488238a4-009c-4630-9c13-508f6c3bb495"
      },
      "execution_count": 8,
      "outputs": [
        {
          "output_type": "execute_result",
          "data": {
            "text/plain": [
              "array([0, 2, 4, 6, 3, 5, 1])"
            ]
          },
          "metadata": {},
          "execution_count": 8
        }
      ]
    },
    {
      "cell_type": "code",
      "source": [
        "#Assigning Names to Emotions in labels\n",
        "emotion_dict = {0: 'anger', 1: 'disgust', 2: 'fear', 3: 'happy', 4: 'sad',5: 'suprise', 6: 'neutral'}\n",
        "width = 48\n",
        "height = 48\n",
        "classes=np.array((\"Angry\", \"Disgust\", \"Fear\", \"Happy\", \"Sad\", \"Surprise\", \"Neutral\"))\n",
        "df.Usage.value_counts()"
      ],
      "metadata": {
        "colab": {
          "base_uri": "https://localhost:8080/"
        },
        "id": "6AUh3gFDQYY-",
        "outputId": "57e58bc2-00b6-4777-a6ad-49c3d3275045"
      },
      "execution_count": 9,
      "outputs": [
        {
          "output_type": "execute_result",
          "data": {
            "text/plain": [
              "Training       28709\n",
              "PublicTest      3589\n",
              "PrivateTest     3589\n",
              "Name: Usage, dtype: int64"
            ]
          },
          "metadata": {},
          "execution_count": 9
        }
      ]
    },
    {
      "cell_type": "markdown",
      "source": [
        "## Pre trained model"
      ],
      "metadata": {
        "id": "XpyRxonEDHx_"
      }
    },
    {
      "cell_type": "code",
      "source": [
        "# working with pre trained model\n",
        "'''\n",
        "base_model = MobileNet(input_shape=(224,224,3), include_top= False)\n",
        "\n",
        "for layer in base_model.layers:\n",
        "  layer.trainable = False\n",
        "\n",
        "x = Flatten()(base_model.output)\n",
        "x = Dense(units=7, activation = 'softmax')(x)\n",
        "\n",
        "#creating our model \n",
        "model = Model(base_model.input, x)'''"
      ],
      "metadata": {
        "id": "hiEc5ycmBdiE"
      },
      "execution_count": null,
      "outputs": []
    },
    {
      "cell_type": "markdown",
      "source": [
        "## Train and Test data sets"
      ],
      "metadata": {
        "id": "xJ6IZrtIaK0q"
      }
    },
    {
      "cell_type": "code",
      "source": [
        "X_train = []\n",
        "y_train = []\n",
        "X_test = []\n",
        "y_test = []\n",
        "k = np.array(list(map(int,df.iloc[0,1].split(\" \"))),dtype='uint8').reshape((48,48))\n",
        "for index, row in df.iterrows():\n",
        "    k = row['pixels'].split(\" \")\n",
        "    if row['Usage'] == 'Training':\n",
        "        X_train.append(np.array(k))\n",
        "        y_train.append(row['emotion'])\n",
        "    elif row['Usage'] == 'PublicTest':\n",
        "        X_test.append(np.array(k))\n",
        "        y_test.append(row['emotion'])"
      ],
      "metadata": {
        "id": "0U-u11KEaZBc"
      },
      "execution_count": 10,
      "outputs": []
    },
    {
      "cell_type": "code",
      "source": [
        "X_train[0]"
      ],
      "metadata": {
        "colab": {
          "base_uri": "https://localhost:8080/"
        },
        "id": "4s1_lT8mabD6",
        "outputId": "c335f248-e1e6-4ef5-f882-13cfa3d9233c"
      },
      "execution_count": 11,
      "outputs": [
        {
          "output_type": "execute_result",
          "data": {
            "text/plain": [
              "array(['70', '80', '82', ..., '106', '109', '82'], dtype='<U3')"
            ]
          },
          "metadata": {},
          "execution_count": 11
        }
      ]
    },
    {
      "cell_type": "code",
      "source": [
        "X_train = np.array(X_train, dtype = 'uint8')\n",
        "y_train = np.array(y_train, dtype = 'uint8')\n",
        "X_test = np.array(X_test, dtype = 'uint8')\n",
        "y_test = np.array(y_test, dtype = 'uint8')"
      ],
      "metadata": {
        "id": "puaPgkb7diG6"
      },
      "execution_count": 12,
      "outputs": []
    },
    {
      "cell_type": "code",
      "source": [
        "X_train = X_train.reshape(X_train.shape[0], 48, 48, 1)\n",
        "X_test = X_test.reshape(X_test.shape[0], 48, 48, 1)"
      ],
      "metadata": {
        "id": "3lE20uNYaL3z"
      },
      "execution_count": 13,
      "outputs": []
    },
    {
      "cell_type": "code",
      "source": [
        "X_train.shape,y_train.shape,X_test.shape,y_test.shape"
      ],
      "metadata": {
        "colab": {
          "base_uri": "https://localhost:8080/"
        },
        "id": "Q1YMUJNBaL8I",
        "outputId": "bdce62a7-5f2c-49c6-e439-f5a023805a95"
      },
      "execution_count": 14,
      "outputs": [
        {
          "output_type": "execute_result",
          "data": {
            "text/plain": [
              "((28709, 48, 48, 1), (28709,), (3589, 48, 48, 1), (3589,))"
            ]
          },
          "metadata": {},
          "execution_count": 14
        }
      ]
    },
    {
      "cell_type": "code",
      "source": [
        "from keras.utils.np_utils import to_categorical\n",
        "y_train= to_categorical(y_train, num_classes=7)\n",
        "y_test = to_categorical(y_test, num_classes=7)"
      ],
      "metadata": {
        "id": "ntWrthf4aL6C"
      },
      "execution_count": 15,
      "outputs": []
    },
    {
      "cell_type": "markdown",
      "source": [
        "## Preparing our data using data generator"
      ],
      "metadata": {
        "id": "AGG6ysEYEbdH"
      }
    },
    {
      "cell_type": "code",
      "source": [
        "train_datagen = ImageDataGenerator(\n",
        "    shear_range= 0.2,\n",
        "    horizontal_flip= True,\n",
        "    rescale= 1./255,\n",
        "    rotation_range=10,  \n",
        "    zoom_range = 0.0,  \n",
        "    width_shift_range=0.1,  \n",
        "    height_shift_range=0.1,\n",
        "    fill_mode = 'nearest'\n",
        ")"
      ],
      "metadata": {
        "id": "LbeFhV1SEWNi"
      },
      "execution_count": 16,
      "outputs": []
    },
    {
      "cell_type": "code",
      "source": [
        "# creating validation datset\n",
        "val_datagen = ImageDataGenerator(rescale=1./255)\n",
        "\n",
        "train_datagen.fit(X_train)"
      ],
      "metadata": {
        "id": "sIKp0iwWFkID"
      },
      "execution_count": 17,
      "outputs": []
    },
    {
      "cell_type": "code",
      "source": [
        "batch_size = 64\n",
        "train_flow = train_datagen.flow(X_train, y_train, batch_size=batch_size) \n",
        "test_flow = val_datagen.flow(X_test, y_test, batch_size=batch_size)"
      ],
      "metadata": {
        "id": "oSltdWN1PR6L"
      },
      "execution_count": 18,
      "outputs": []
    },
    {
      "cell_type": "markdown",
      "source": [
        "## Visualizing the data that is fed to train datagen"
      ],
      "metadata": {
        "id": "ZXbKcfguGPYA"
      }
    },
    {
      "cell_type": "code",
      "source": [
        "for X_batch, y_batch in train_datagen.flow(X_train, y_train, batch_size=9):\n",
        "    for i in range(0, 9): \n",
        "        plt.axis('off') \n",
        "        plt.subplot(330 + 1 + i) \n",
        "        plt.imshow(X_batch[i].reshape(48, 48), cmap=plt.get_cmap('gray'))\n",
        "    plt.axis('off') \n",
        "    plt.show() \n",
        "    break"
      ],
      "metadata": {
        "colab": {
          "base_uri": "https://localhost:8080/",
          "height": 248
        },
        "id": "1tI_YbecQU9F",
        "outputId": "559c5179-a131-4c94-b9c1-82392e70f4d9"
      },
      "execution_count": 19,
      "outputs": [
        {
          "output_type": "display_data",
          "data": {
            "image/png": "[encoded data removed]",
            "text/plain": [
              "<Figure size 432x288 with 9 Axes>"
            ]
          },
          "metadata": {
            "needs_background": "light"
          }
        }
      ]
    },
    {
      "cell_type": "markdown",
      "source": [
        "## having early stopping, model check point, Reduce learning rate"
      ],
      "metadata": {
        "id": "mCT2ktq4HvnG"
      }
    },
    {
      "cell_type": "code",
      "source": [
        "# having early stopping and model check point\n",
        "\n",
        "from keras.callbacks import ModelCheckpoint, EarlyStopping, ReduceLROnPlateau\n",
        "\n",
        "# early stopping \n",
        "es = EarlyStopping(monitor = 'val_accuracy', min_delta=0.01, patience=15, verbose = 1, mode ='auto')\n",
        "\n",
        "# model checkpoint\n",
        "mc = ModelCheckpoint(filepath=\"best_model.h5\", monitor = \"val_accuracy\", verbose = 1, save_best_only=True, mode = \"auto\")\n",
        "\n",
        "# Reduce learning rate when a metric has stopped improving\n",
        "reduce_lr = ReduceLROnPlateau(monitor='val_loss', factor=0.1, patience=10, verbose=1, mode='auto', min_delta=0.0001, cooldown=0, min_lr=0.001)\n",
        "\n",
        "# putting callback in a list\n",
        "call_back = [es,mc,reduce_lr]"
      ],
      "metadata": {
        "id": "7bv7-dJ8HqFt"
      },
      "execution_count": 20,
      "outputs": []
    },
    {
      "cell_type": "markdown",
      "source": [
        "## Creating model for training"
      ],
      "metadata": {
        "id": "lq8fg0KxOjXk"
      }
    },
    {
      "cell_type": "code",
      "source": [
        "import tensorflow.keras.layers as tfl\n",
        "import tensorflow as tf\n",
        "\n",
        "def model_(input_shape=(48,48,1)):\n",
        "  # first input model\n",
        "    visible = tf.keras.Input(shape=input_shape)\n",
        "\n",
        "    # Conv Block 1\n",
        "    conv1 = tfl.Conv2D(64, (3,3), padding='same', input_shape=(48,48,1))(visible)\n",
        "    bn1 = tfl.BatchNormalization()(conv1)\n",
        "    rl1 = tfl.ReLU()(bn1)\n",
        "    mp1 = tfl.MaxPooling2D(pool_size=(2,2))(rl1)\n",
        "    dp1 = tfl.Dropout(0.25)(mp1)\n",
        "\n",
        "    # Conv Block 2\n",
        "    conv2 = tfl.Conv2D(128,(5,5), padding='same')(dp1)\n",
        "    bn2 = tfl.BatchNormalization()(conv2)\n",
        "    rl2 = tfl.ReLU()(bn2)\n",
        "    mp2 = tfl.MaxPooling2D(pool_size=(2,2))(rl2)\n",
        "    dp2 = tfl.Dropout(0.25)(mp2)\n",
        "\n",
        "    # Conv Block 3\n",
        "    conv3 = tfl.Conv2D(512,(3,3), padding='same')(dp2)\n",
        "    bn3 = tfl.BatchNormalization()(conv3)\n",
        "    rl3 = tfl.ReLU()(bn3)\n",
        "    mp3 = tfl.MaxPooling2D(pool_size=(2,2))(rl3)\n",
        "    dp3 = tfl.Dropout(0.25)(mp3)\n",
        "\n",
        "    # Conv Block 4\n",
        "    conv4 = tfl.Conv2D(512,(3,3), padding='same')(dp3)\n",
        "    bn4 = tfl.BatchNormalization()(conv4)\n",
        "    rl4 = tfl.ReLU()(bn4)\n",
        "    mp4 = tfl.MaxPooling2D(pool_size=(2,2))(rl4)\n",
        "    dp4 = tfl.Dropout(0.25)(mp4)\n",
        "\n",
        "    #Flatten and output\n",
        "\n",
        "    flatten = tfl.Flatten(name = 'flatten')(bn4)\n",
        "    dn = tfl.Dense(256, activation='relu')(flatten)\n",
        "    bn = tfl.BatchNormalization()(dn)\n",
        "    dp = tfl.Dropout(0.25)(bn)\n",
        "\n",
        "    ouput = tfl.Dense(7, activation='softmax')(dp)\n",
        "\n",
        "    # create model \n",
        "    model = tf.keras.Model(inputs =visible, outputs = ouput)\n",
        "\n",
        "    # summary layers\n",
        "    print(model.summary())\n",
        "    \n",
        "    return model"
      ],
      "metadata": {
        "id": "OpUd2mADiaml"
      },
      "execution_count": 21,
      "outputs": []
    },
    {
      "cell_type": "code",
      "source": [
        "model = model_()\n",
        "for layer in model.layers:\n",
        "    layer.trainable = True\n",
        "model.compile(loss='categorical_crossentropy',optimizer='Adam',metrics=['accuracy'])"
      ],
      "metadata": {
        "colab": {
          "base_uri": "https://localhost:8080/"
        },
        "id": "Erlp_L0Yu3vL",
        "outputId": "896ee8a1-4f49-45db-fda7-4b0d3be90654"
      },
      "execution_count": 22,
      "outputs": [
        {
          "output_type": "stream",
          "name": "stdout",
          "text": [
            "Model: \"model\"\n",
            "_________________________________________________________________\n",
            " Layer (type)                Output Shape              Param #   \n",
            "=================================================================\n",
            " input_1 (InputLayer)        [(None, 48, 48, 1)]       0         \n",
            "                                                                 \n",
            " conv2d (Conv2D)             (None, 48, 48, 64)        640       \n",
            "                                                                 \n",
            " batch_normalization (BatchN  (None, 48, 48, 64)       256       \n",
            " ormalization)                                                   \n",
            "                                                                 \n",
            " re_lu (ReLU)                (None, 48, 48, 64)        0         \n",
            "                                                                 \n",
            " max_pooling2d (MaxPooling2D  (None, 24, 24, 64)       0         \n",
            " )                                                               \n",
            "                                                                 \n",
            " dropout (Dropout)           (None, 24, 24, 64)        0         \n",
            "                                                                 \n",
            " conv2d_1 (Conv2D)           (None, 24, 24, 128)       204928    \n",
            "                                                                 \n",
            " batch_normalization_1 (Batc  (None, 24, 24, 128)      512       \n",
            " hNormalization)                                                 \n",
            "                                                                 \n",
            " re_lu_1 (ReLU)              (None, 24, 24, 128)       0         \n",
            "                                                                 \n",
            " max_pooling2d_1 (MaxPooling  (None, 12, 12, 128)      0         \n",
            " 2D)                                                             \n",
            "                                                                 \n",
            " dropout_1 (Dropout)         (None, 12, 12, 128)       0         \n",
            "                                                                 \n",
            " conv2d_2 (Conv2D)           (None, 12, 12, 512)       590336    \n",
            "                                                                 \n",
            " batch_normalization_2 (Batc  (None, 12, 12, 512)      2048      \n",
            " hNormalization)                                                 \n",
            "                                                                 \n",
            " re_lu_2 (ReLU)              (None, 12, 12, 512)       0         \n",
            "                                                                 \n",
            " max_pooling2d_2 (MaxPooling  (None, 6, 6, 512)        0         \n",
            " 2D)                                                             \n",
            "                                                                 \n",
            " dropout_2 (Dropout)         (None, 6, 6, 512)         0         \n",
            "                                                                 \n",
            " conv2d_3 (Conv2D)           (None, 6, 6, 512)         2359808   \n",
            "                                                                 \n",
            " batch_normalization_3 (Batc  (None, 6, 6, 512)        2048      \n",
            " hNormalization)                                                 \n",
            "                                                                 \n",
            " flatten (Flatten)           (None, 18432)             0         \n",
            "                                                                 \n",
            " dense (Dense)               (None, 256)               4718848   \n",
            "                                                                 \n",
            " batch_normalization_4 (Batc  (None, 256)              1024      \n",
            " hNormalization)                                                 \n",
            "                                                                 \n",
            " dropout_4 (Dropout)         (None, 256)               0         \n",
            "                                                                 \n",
            " dense_1 (Dense)             (None, 7)                 1799      \n",
            "                                                                 \n",
            "=================================================================\n",
            "Total params: 7,882,247\n",
            "Trainable params: 7,879,303\n",
            "Non-trainable params: 2,944\n",
            "_________________________________________________________________\n",
            "None\n"
          ]
        }
      ]
    },
    {
      "cell_type": "code",
      "source": [
        "history = model.fit(train_flow, \n",
        "                    steps_per_epoch=len(X_train) / batch_size,\n",
        "                    epochs=100,\n",
        "                    validation_data = test_flow,\n",
        "                    validation_steps = len(X_test) / batch_size,\n",
        "                    callbacks = [es,mc,reduce_lr],\n",
        "                    verbose = 1)"
      ],
      "metadata": {
        "id": "8h1oEPkbI-QF",
        "colab": {
          "base_uri": "https://localhost:8080/"
        },
        "outputId": "3ada6849-dec9-4c85-faf4-51f975581cba"
      },
      "execution_count": 23,
      "outputs": [
        {
          "output_type": "stream",
          "name": "stdout",
          "text": [
            "Epoch 1/100\n",
            "449/448 [==============================] - ETA: 0s - loss: 1.8281 - accuracy: 0.2960\n",
            "Epoch 00001: val_accuracy improved from -inf to 0.32293, saving model to best_model.h5\n",
            "448/448 [==============================] - 39s 65ms/step - loss: 1.8281 - accuracy: 0.2960 - val_loss: 1.6763 - val_accuracy: 0.3229 - lr: 0.0010\n",
            "Epoch 2/100\n",
            "449/448 [==============================] - ETA: 0s - loss: 1.5527 - accuracy: 0.3965\n",
            "Epoch 00002: val_accuracy improved from 0.32293 to 0.42658, saving model to best_model.h5\n",
            "448/448 [==============================] - 28s 63ms/step - loss: 1.5527 - accuracy: 0.3965 - val_loss: 1.4663 - val_accuracy: 0.4266 - lr: 0.0010\n",
            "Epoch 3/100\n",
            "449/448 [==============================] - ETA: 0s - loss: 1.4242 - accuracy: 0.4589\n",
            "Epoch 00003: val_accuracy improved from 0.42658 to 0.49373, saving model to best_model.h5\n",
            "448/448 [==============================] - 28s 63ms/step - loss: 1.4242 - accuracy: 0.4589 - val_loss: 1.3390 - val_accuracy: 0.4937 - lr: 0.0010\n",
            "Epoch 4/100\n",
            "449/448 [==============================] - ETA: 0s - loss: 1.3623 - accuracy: 0.4796\n",
            "Epoch 00004: val_accuracy did not improve from 0.49373\n",
            "448/448 [==============================] - 28s 62ms/step - loss: 1.3623 - accuracy: 0.4796 - val_loss: 1.5746 - val_accuracy: 0.4163 - lr: 0.0010\n",
            "Epoch 5/100\n",
            "449/448 [==============================] - ETA: 0s - loss: 1.3116 - accuracy: 0.5018\n",
            "Epoch 00005: val_accuracy improved from 0.49373 to 0.50404, saving model to best_model.h5\n",
            "448/448 [==============================] - 28s 63ms/step - loss: 1.3116 - accuracy: 0.5018 - val_loss: 1.3467 - val_accuracy: 0.5040 - lr: 0.0010\n",
            "Epoch 6/100\n",
            "449/448 [==============================] - ETA: 0s - loss: 1.2695 - accuracy: 0.5157\n",
            "Epoch 00006: val_accuracy improved from 0.50404 to 0.52522, saving model to best_model.h5\n",
            "448/448 [==============================] - 28s 63ms/step - loss: 1.2695 - accuracy: 0.5157 - val_loss: 1.2501 - val_accuracy: 0.5252 - lr: 0.0010\n",
            "Epoch 7/100\n",
            "449/448 [==============================] - ETA: 0s - loss: 1.2606 - accuracy: 0.5204\n",
            "Epoch 00007: val_accuracy did not improve from 0.52522\n",
            "448/448 [==============================] - 28s 63ms/step - loss: 1.2606 - accuracy: 0.5204 - val_loss: 1.3536 - val_accuracy: 0.5104 - lr: 0.0010\n",
            "Epoch 8/100\n",
            "449/448 [==============================] - ETA: 0s - loss: 1.2211 - accuracy: 0.5366\n",
            "Epoch 00008: val_accuracy did not improve from 0.52522\n",
            "448/448 [==============================] - 28s 63ms/step - loss: 1.2211 - accuracy: 0.5366 - val_loss: 1.8752 - val_accuracy: 0.4341 - lr: 0.0010\n",
            "Epoch 9/100\n",
            "449/448 [==============================] - ETA: 0s - loss: 1.1995 - accuracy: 0.5417\n",
            "Epoch 00009: val_accuracy improved from 0.52522 to 0.54528, saving model to best_model.h5\n",
            "448/448 [==============================] - 29s 64ms/step - loss: 1.1995 - accuracy: 0.5417 - val_loss: 1.2147 - val_accuracy: 0.5453 - lr: 0.0010\n",
            "Epoch 10/100\n",
            "449/448 [==============================] - ETA: 0s - loss: 1.1908 - accuracy: 0.5460\n",
            "Epoch 00010: val_accuracy did not improve from 0.54528\n",
            "448/448 [==============================] - 28s 63ms/step - loss: 1.1908 - accuracy: 0.5460 - val_loss: 1.3887 - val_accuracy: 0.4792 - lr: 0.0010\n",
            "Epoch 11/100\n",
            "449/448 [==============================] - ETA: 0s - loss: 1.2311 - accuracy: 0.5307\n",
            "Epoch 00011: val_accuracy did not improve from 0.54528\n",
            "448/448 [==============================] - 28s 63ms/step - loss: 1.2311 - accuracy: 0.5307 - val_loss: 1.2256 - val_accuracy: 0.5280 - lr: 0.0010\n",
            "Epoch 12/100\n",
            "449/448 [==============================] - ETA: 0s - loss: 1.2145 - accuracy: 0.5392\n",
            "Epoch 00012: val_accuracy did not improve from 0.54528\n",
            "448/448 [==============================] - 28s 63ms/step - loss: 1.2145 - accuracy: 0.5392 - val_loss: 1.4031 - val_accuracy: 0.4773 - lr: 0.0010\n",
            "Epoch 13/100\n",
            "449/448 [==============================] - ETA: 0s - loss: 1.1524 - accuracy: 0.5632\n",
            "Epoch 00013: val_accuracy improved from 0.54528 to 0.58429, saving model to best_model.h5\n",
            "448/448 [==============================] - 29s 64ms/step - loss: 1.1524 - accuracy: 0.5632 - val_loss: 1.1343 - val_accuracy: 0.5843 - lr: 0.0010\n",
            "Epoch 14/100\n",
            "449/448 [==============================] - ETA: 0s - loss: 1.1237 - accuracy: 0.5742\n",
            "Epoch 00014: val_accuracy did not improve from 0.58429\n",
            "448/448 [==============================] - 29s 64ms/step - loss: 1.1237 - accuracy: 0.5742 - val_loss: 1.2241 - val_accuracy: 0.5361 - lr: 0.0010\n",
            "Epoch 15/100\n",
            "449/448 [==============================] - ETA: 0s - loss: 1.1443 - accuracy: 0.5663\n",
            "Epoch 00015: val_accuracy did not improve from 0.58429\n",
            "448/448 [==============================] - 28s 63ms/step - loss: 1.1443 - accuracy: 0.5663 - val_loss: 1.6709 - val_accuracy: 0.4004 - lr: 0.0010\n",
            "Epoch 16/100\n",
            "449/448 [==============================] - ETA: 0s - loss: 1.1340 - accuracy: 0.5674\n",
            "Epoch 00016: val_accuracy did not improve from 0.58429\n",
            "448/448 [==============================] - 28s 63ms/step - loss: 1.1340 - accuracy: 0.5674 - val_loss: 1.1099 - val_accuracy: 0.5826 - lr: 0.0010\n",
            "Epoch 17/100\n",
            "449/448 [==============================] - ETA: 0s - loss: 1.1342 - accuracy: 0.5688\n",
            "Epoch 00017: val_accuracy improved from 0.58429 to 0.58568, saving model to best_model.h5\n",
            "448/448 [==============================] - 28s 63ms/step - loss: 1.1342 - accuracy: 0.5688 - val_loss: 1.0995 - val_accuracy: 0.5857 - lr: 0.0010\n",
            "Epoch 18/100\n",
            "449/448 [==============================] - ETA: 0s - loss: 1.1126 - accuracy: 0.5770\n",
            "Epoch 00018: val_accuracy did not improve from 0.58568\n",
            "448/448 [==============================] - 28s 63ms/step - loss: 1.1126 - accuracy: 0.5770 - val_loss: 1.1459 - val_accuracy: 0.5745 - lr: 0.0010\n",
            "Epoch 19/100\n",
            "449/448 [==============================] - ETA: 0s - loss: 1.0996 - accuracy: 0.5814\n",
            "Epoch 00019: val_accuracy did not improve from 0.58568\n",
            "448/448 [==============================] - 28s 63ms/step - loss: 1.0996 - accuracy: 0.5814 - val_loss: 1.2159 - val_accuracy: 0.5508 - lr: 0.0010\n",
            "Epoch 20/100\n",
            "449/448 [==============================] - ETA: 0s - loss: 1.0834 - accuracy: 0.5915\n",
            "Epoch 00020: val_accuracy improved from 0.58568 to 0.59794, saving model to best_model.h5\n",
            "448/448 [==============================] - 29s 64ms/step - loss: 1.0834 - accuracy: 0.5915 - val_loss: 1.0818 - val_accuracy: 0.5979 - lr: 0.0010\n",
            "Epoch 21/100\n",
            "449/448 [==============================] - ETA: 0s - loss: 1.0660 - accuracy: 0.5956\n",
            "Epoch 00021: val_accuracy did not improve from 0.59794\n",
            "448/448 [==============================] - 28s 63ms/step - loss: 1.0660 - accuracy: 0.5956 - val_loss: 1.1632 - val_accuracy: 0.5681 - lr: 0.0010\n",
            "Epoch 22/100\n",
            "449/448 [==============================] - ETA: 0s - loss: 1.0498 - accuracy: 0.6025\n",
            "Epoch 00022: val_accuracy improved from 0.59794 to 0.60435, saving model to best_model.h5\n",
            "448/448 [==============================] - 28s 63ms/step - loss: 1.0498 - accuracy: 0.6025 - val_loss: 1.0793 - val_accuracy: 0.6043 - lr: 0.0010\n",
            "Epoch 23/100\n",
            "449/448 [==============================] - ETA: 0s - loss: 1.0359 - accuracy: 0.6096\n",
            "Epoch 00023: val_accuracy did not improve from 0.60435\n",
            "448/448 [==============================] - 28s 63ms/step - loss: 1.0359 - accuracy: 0.6096 - val_loss: 1.1803 - val_accuracy: 0.5651 - lr: 0.0010\n",
            "Epoch 24/100\n",
            "449/448 [==============================] - ETA: 0s - loss: 1.0392 - accuracy: 0.6063\n",
            "Epoch 00024: val_accuracy did not improve from 0.60435\n",
            "448/448 [==============================] - 28s 63ms/step - loss: 1.0392 - accuracy: 0.6063 - val_loss: 1.1433 - val_accuracy: 0.5687 - lr: 0.0010\n",
            "Epoch 25/100\n",
            "449/448 [==============================] - ETA: 0s - loss: 1.0247 - accuracy: 0.6133\n",
            "Epoch 00025: val_accuracy did not improve from 0.60435\n",
            "448/448 [==============================] - 28s 63ms/step - loss: 1.0247 - accuracy: 0.6133 - val_loss: 1.7389 - val_accuracy: 0.4517 - lr: 0.0010\n",
            "Epoch 26/100\n",
            "449/448 [==============================] - ETA: 0s - loss: 1.0128 - accuracy: 0.6186\n",
            "Epoch 00026: val_accuracy did not improve from 0.60435\n",
            "448/448 [==============================] - 28s 63ms/step - loss: 1.0128 - accuracy: 0.6186 - val_loss: 1.5008 - val_accuracy: 0.4581 - lr: 0.0010\n",
            "Epoch 27/100\n",
            "449/448 [==============================] - ETA: 0s - loss: 1.0084 - accuracy: 0.6206\n",
            "Epoch 00027: val_accuracy did not improve from 0.60435\n",
            "448/448 [==============================] - 28s 63ms/step - loss: 1.0084 - accuracy: 0.6206 - val_loss: 1.1334 - val_accuracy: 0.5784 - lr: 0.0010\n",
            "Epoch 28/100\n",
            "449/448 [==============================] - ETA: 0s - loss: 0.9979 - accuracy: 0.6260\n",
            "Epoch 00028: val_accuracy improved from 0.60435 to 0.62134, saving model to best_model.h5\n",
            "448/448 [==============================] - 28s 63ms/step - loss: 0.9979 - accuracy: 0.6260 - val_loss: 1.0114 - val_accuracy: 0.6213 - lr: 0.0010\n",
            "Epoch 29/100\n",
            "449/448 [==============================] - ETA: 0s - loss: 1.0017 - accuracy: 0.6181\n",
            "Epoch 00029: val_accuracy did not improve from 0.62134\n",
            "448/448 [==============================] - 28s 63ms/step - loss: 1.0017 - accuracy: 0.6181 - val_loss: 1.1429 - val_accuracy: 0.5726 - lr: 0.0010\n",
            "Epoch 30/100\n",
            "449/448 [==============================] - ETA: 0s - loss: 0.9957 - accuracy: 0.6252\n",
            "Epoch 00030: val_accuracy did not improve from 0.62134\n",
            "448/448 [==============================] - 28s 63ms/step - loss: 0.9957 - accuracy: 0.6252 - val_loss: 1.0429 - val_accuracy: 0.6135 - lr: 0.0010\n",
            "Epoch 31/100\n",
            "449/448 [==============================] - ETA: 0s - loss: 0.9781 - accuracy: 0.6315\n",
            "Epoch 00031: val_accuracy did not improve from 0.62134\n",
            "448/448 [==============================] - 28s 63ms/step - loss: 0.9781 - accuracy: 0.6315 - val_loss: 1.0692 - val_accuracy: 0.5949 - lr: 0.0010\n",
            "Epoch 32/100\n",
            "449/448 [==============================] - ETA: 0s - loss: 0.9688 - accuracy: 0.6383\n",
            "Epoch 00032: val_accuracy did not improve from 0.62134\n",
            "448/448 [==============================] - 28s 63ms/step - loss: 0.9688 - accuracy: 0.6383 - val_loss: 1.1077 - val_accuracy: 0.5910 - lr: 0.0010\n",
            "Epoch 33/100\n",
            "449/448 [==============================] - ETA: 0s - loss: 0.9653 - accuracy: 0.6366\n",
            "Epoch 00033: val_accuracy did not improve from 0.62134\n",
            "448/448 [==============================] - 28s 63ms/step - loss: 0.9653 - accuracy: 0.6366 - val_loss: 1.2476 - val_accuracy: 0.5294 - lr: 0.0010\n",
            "Epoch 34/100\n",
            "449/448 [==============================] - ETA: 0s - loss: 0.9572 - accuracy: 0.6406\n",
            "Epoch 00034: val_accuracy did not improve from 0.62134\n",
            "448/448 [==============================] - 28s 63ms/step - loss: 0.9572 - accuracy: 0.6406 - val_loss: 1.0702 - val_accuracy: 0.6099 - lr: 0.0010\n",
            "Epoch 35/100\n",
            "449/448 [==============================] - ETA: 0s - loss: 0.9472 - accuracy: 0.6436\n",
            "Epoch 00035: val_accuracy did not improve from 0.62134\n",
            "448/448 [==============================] - 28s 63ms/step - loss: 0.9472 - accuracy: 0.6436 - val_loss: 1.1496 - val_accuracy: 0.5715 - lr: 0.0010\n",
            "Epoch 36/100\n",
            "449/448 [==============================] - ETA: 0s - loss: 0.9395 - accuracy: 0.6465\n",
            "Epoch 00036: val_accuracy did not improve from 0.62134\n",
            "448/448 [==============================] - 29s 64ms/step - loss: 0.9395 - accuracy: 0.6465 - val_loss: 1.1494 - val_accuracy: 0.5715 - lr: 0.0010\n",
            "Epoch 37/100\n",
            "449/448 [==============================] - ETA: 0s - loss: 0.9417 - accuracy: 0.6478\n",
            "Epoch 00037: val_accuracy did not improve from 0.62134\n",
            "448/448 [==============================] - 28s 63ms/step - loss: 0.9417 - accuracy: 0.6478 - val_loss: 1.2066 - val_accuracy: 0.5592 - lr: 0.0010\n",
            "Epoch 38/100\n",
            "449/448 [==============================] - ETA: 0s - loss: 0.9290 - accuracy: 0.6523\n",
            "Epoch 00038: val_accuracy did not improve from 0.62134\n",
            "448/448 [==============================] - 28s 63ms/step - loss: 0.9290 - accuracy: 0.6523 - val_loss: 1.1316 - val_accuracy: 0.5874 - lr: 0.0010\n",
            "Epoch 39/100\n",
            "449/448 [==============================] - ETA: 0s - loss: 0.9238 - accuracy: 0.6536\n",
            "Epoch 00039: val_accuracy did not improve from 0.62134\n",
            "448/448 [==============================] - 28s 63ms/step - loss: 0.9238 - accuracy: 0.6536 - val_loss: 1.0875 - val_accuracy: 0.5957 - lr: 0.0010\n",
            "Epoch 40/100\n",
            "449/448 [==============================] - ETA: 0s - loss: 0.9244 - accuracy: 0.6507\n",
            "Epoch 00040: val_accuracy did not improve from 0.62134\n",
            "448/448 [==============================] - 28s 63ms/step - loss: 0.9244 - accuracy: 0.6507 - val_loss: 1.0702 - val_accuracy: 0.6099 - lr: 0.0010\n",
            "Epoch 41/100\n",
            "449/448 [==============================] - ETA: 0s - loss: 0.9126 - accuracy: 0.6555\n",
            "Epoch 00041: val_accuracy did not improve from 0.62134\n",
            "448/448 [==============================] - 28s 63ms/step - loss: 0.9126 - accuracy: 0.6555 - val_loss: 1.1963 - val_accuracy: 0.5595 - lr: 0.0010\n",
            "Epoch 42/100\n",
            "449/448 [==============================] - ETA: 0s - loss: 0.9061 - accuracy: 0.6626\n",
            "Epoch 00042: val_accuracy did not improve from 0.62134\n",
            "448/448 [==============================] - 28s 63ms/step - loss: 0.9061 - accuracy: 0.6626 - val_loss: 1.1674 - val_accuracy: 0.5790 - lr: 0.0010\n",
            "Epoch 43/100\n",
            "449/448 [==============================] - ETA: 0s - loss: 0.9013 - accuracy: 0.6611\n",
            "Epoch 00043: val_accuracy did not improve from 0.62134\n",
            "448/448 [==============================] - 28s 63ms/step - loss: 0.9013 - accuracy: 0.6611 - val_loss: 1.0792 - val_accuracy: 0.6096 - lr: 0.0010\n",
            "Epoch 00043: early stopping\n"
          ]
        }
      ]
    },
    {
      "cell_type": "code",
      "source": [
        "# Loading the best fit model \n",
        "from keras.models import load_model\n",
        "model = load_model(\"/content/best_model.h5\")"
      ],
      "metadata": {
        "id": "aBMFewqv56BH"
      },
      "execution_count": 24,
      "outputs": []
    },
    {
      "cell_type": "code",
      "source": [
        "h =  history.history\n",
        "h.keys()"
      ],
      "metadata": {
        "colab": {
          "base_uri": "https://localhost:8080/"
        },
        "id": "HsJOJVQD56uj",
        "outputId": "577249bc-09f2-45fc-c0f3-5ee81c0f60d9"
      },
      "execution_count": 25,
      "outputs": [
        {
          "output_type": "execute_result",
          "data": {
            "text/plain": [
              "dict_keys(['loss', 'accuracy', 'val_loss', 'val_accuracy', 'lr'])"
            ]
          },
          "metadata": {},
          "execution_count": 25
        }
      ]
    },
    {
      "cell_type": "code",
      "source": [
        "plt.plot(h['accuracy'])\n",
        "plt.plot(h['val_accuracy'] , c = \"red\")\n",
        "plt.title(\"acc vs v-acc\")\n",
        "plt.show()"
      ],
      "metadata": {
        "id": "1g1gG8o-56sT",
        "colab": {
          "base_uri": "https://localhost:8080/",
          "height": 281
        },
        "outputId": "305550a0-87a6-447c-a11d-21a0b6ea16cf"
      },
      "execution_count": 26,
      "outputs": [
        {
          "output_type": "display_data",
          "data": {
            "image/png": "[encoded data removed]",
            "text/plain": [
              "<Figure size 432x288 with 1 Axes>"
            ]
          },
          "metadata": {
            "needs_background": "light"
          }
        }
      ]
    },
    {
      "cell_type": "code",
      "source": [
        "plt.plot(h['loss'])\n",
        "plt.plot(h['val_loss'] , c = \"red\")\n",
        "plt.title(\"loss vs v-loss\")\n",
        "plt.show()"
      ],
      "metadata": {
        "id": "NLi0BFEl5_26",
        "colab": {
          "base_uri": "https://localhost:8080/",
          "height": 281
        },
        "outputId": "24d1aaf1-a75f-4296-8991-db52bdb6608a"
      },
      "execution_count": 27,
      "outputs": [
        {
          "output_type": "display_data",
          "data": {
            "image/png": "[encoded data removed]",
            "text/plain": [
              "<Figure size 432x288 with 1 Axes>"
            ]
          },
          "metadata": {
            "needs_background": "light"
          }
        }
      ]
    },
    {
      "cell_type": "code",
      "source": [
        "from keras.models import Model, model_from_json\n",
        "model_json = model.to_json()\n",
        "with open(\"model.json\", \"w\") as json_file:\n",
        "    json_file.write(model_json)\n",
        "model.save_weights(\"model.h5\")\n",
        "print(\"Saved model to disk\")"
      ],
      "metadata": {
        "colab": {
          "base_uri": "https://localhost:8080/"
        },
        "id": "dxZvd8a5k4F-",
        "outputId": "b511c3e6-ad19-429a-f849-1dfa2c96e54b"
      },
      "execution_count": 28,
      "outputs": [
        {
          "output_type": "stream",
          "name": "stdout",
          "text": [
            "Saved model to disk\n"
          ]
        }
      ]
    }
  ]
}