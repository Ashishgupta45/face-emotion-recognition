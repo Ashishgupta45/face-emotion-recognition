{
  "nbformat": 4,
  "nbformat_minor": 0,
  "metadata": {
    "colab": {
      "name": "Face Emotion Recognition.ipynb",
      "provenance": [],
      "authorship_tag": "ABX9TyN2xZrkNvSlhCflkKAsN3Fj",
      "include_colab_link": true
    },
    "kernelspec": {
      "name": "python3",
      "display_name": "Python 3"
    },
    "language_info": {
      "name": "python"
    },
    "accelerator": "GPU"
  },
  "cells": [
    {
      "cell_type": "markdown",
      "metadata": {
        "id": "view-in-github",
        "colab_type": "text"
      },
      "source": [
        "<a href=\"https://colab.research.google.com/github/Ashishgupta45/face-emotion-recognition/blob/main/Face_Emotion_Recognition.ipynb\" target=\"_parent\"><img src=\"https://colab.research.google.com/assets/colab-badge.svg\" alt=\"Open In Colab\"/></a>"
      ]
    },
    {
      "cell_type": "markdown",
      "source": [
        "# Problem Statements\n",
        "The Indian education landscape has been undergoing rapid changes for the past 10 years owing to the advancement of web-based learning services, specifically, eLearning platforms.\n",
        "\n",
        "Global E-learning is estimated to witness an 8X over the next 5 years to reach USD 2B in 2021. India is expected to grow with a CAGR of 44% crossing the 10M users mark in 2021. Although the market is growing on a rapid scale, there are major challenges associated with digital learning when compared with brick and mortar classrooms. One of many challenges is how to ensure quality learning for students. Digital platforms might overpower physical classrooms in terms of content quality but when it comes to understanding whether students are able to grasp the content in a live class scenario is yet an open-end challenge.\n",
        "\n",
        "In a physical classroom during a lecturing teacher can see the faces and assess the emotion of the class and tune their lecture accordingly, whether he is going fast or slow. He can identify students who need special attention. Digital classrooms are conducted via video telephony software program (exZoom) where it’s not possible for medium scale class (25-50) to see all students and access the mood. Because of this drawback, students are not focusing on content due to lack of surveillance. While digital platforms have limitations in terms of physical surveillance but it comes with the power of data and machines which can work for you. It provides data in the form of video, audio, and texts which can be analysed using deep learning algorithms. Deep learning backed system not only solves the surveillance issue, but it also removes the human bias from the system, and all information is no longer in the teacher’s brain rather translated in numbers that can be analysed and tracked.\n",
        "\n",
        "We will solve the above-mentioned challenge by applying deep learning algorithms to live video data. The solution to this problem is by recognizing facial emotions."
      ],
      "metadata": {
        "id": "2PVnLJePomMr"
      }
    },
    {
      "cell_type": "markdown",
      "source": [
        "### pretrained models\n",
        "https://www.vlfeat.org/matconvnet/pretrained/"
      ],
      "metadata": {
        "id": "JcNliqU941-o"
      }
    },
    {
      "cell_type": "markdown",
      "source": [
        "Head-start References\n",
        "❖ https://towardsdatascience.com/face-detection-recognition-and-emotion-detection-in-8-lines-of-code-b2ce32d4d5de"
      ],
      "metadata": {
        "id": "HaJ7ubamqg3B"
      }
    },
    {
      "cell_type": "markdown",
      "source": [
        "<img target=\"_blank\" src=\"https://149695847.v2.pressablecdn.com/wp-content/uploads/2020/10/face_emotion.png\" width=1000; height=500>"
      ],
      "metadata": {
        "id": "WgsSJctvpe-t"
      }
    },
    {
      "cell_type": "code",
      "execution_count": 1,
      "metadata": {
        "id": "-JFfHyKCoiLZ"
      },
      "outputs": [],
      "source": [
        "# importing required libraries\n",
        "import numpy as np\n",
        "import pandas as pd\n",
        "import matplotlib.pyplot as plt"
      ]
    },
    {
      "cell_type": "code",
      "source": [
        "# importing deep learning libraries\n",
        "from tensorflow.keras.preprocessing.image import ImageDataGenerator, img_to_array, load_img\n",
        "from tensorflow.keras.layers import Dense, Input, Dropout,Flatten, Conv2D, Embedding\n",
        "from tensorflow.keras.layers import BatchNormalization, Activation, MaxPooling2D\n",
        "from tensorflow.keras.models import Model, Sequential\n",
        "from tensorflow.keras.optimizers import Adam\n",
        "from tensorflow.keras.losses import categorical_crossentropy\n",
        "from tensorflow.keras.callbacks import ModelCheckpoint, ReduceLROnPlateau\n",
        "# from keras.applications.mobilenet import MobileNet, preprocess_input"
      ],
      "metadata": {
        "id": "0n4O3V0Evkjs"
      },
      "execution_count": 2,
      "outputs": []
    },
    {
      "cell_type": "code",
      "source": [
        "from google.colab import drive\n",
        "drive.mount('/content/drive')"
      ],
      "metadata": {
        "colab": {
          "base_uri": "https://localhost:8080/"
        },
        "id": "ZVAo9PNJbI5U",
        "outputId": "4fb57609-eb0f-49c9-e995-f115994af2bc"
      },
      "execution_count": 3,
      "outputs": [
        {
          "output_type": "stream",
          "name": "stdout",
          "text": [
            "Drive already mounted at /content/drive; to attempt to forcibly remount, call drive.mount(\"/content/drive\", force_remount=True).\n"
          ]
        }
      ]
    },
    {
      "cell_type": "code",
      "source": [
        "# Load the dataset\n",
        "df = pd.read_csv(\"/content/drive/My Drive/Ashish Deep Learning /fer2013.csv\") "
      ],
      "metadata": {
        "id": "PxTycXEwbIup"
      },
      "execution_count": 4,
      "outputs": []
    },
    {
      "cell_type": "code",
      "source": [
        "df.head()"
      ],
      "metadata": {
        "colab": {
          "base_uri": "https://localhost:8080/",
          "height": 206
        },
        "id": "jt8Q0RkabIsI",
        "outputId": "eef3de59-4265-4478-fdf3-b7fd56cb7830"
      },
      "execution_count": 5,
      "outputs": [
        {
          "output_type": "execute_result",
          "data": {
            "text/html": [
              "\n",
              "  <div id=\"df-d87b28c5-5544-47c1-8918-bc806ae29565\">\n",
              "    <div class=\"colab-df-container\">\n",
              "      <div>\n",
              "<style scoped>\n",
              "    .dataframe tbody tr th:only-of-type {\n",
              "        vertical-align: middle;\n",
              "    }\n",
              "\n",
              "    .dataframe tbody tr th {\n",
              "        vertical-align: top;\n",
              "    }\n",
              "\n",
              "    .dataframe thead th {\n",
              "        text-align: right;\n",
              "    }\n",
              "</style>\n",
              "<table border=\"1\" class=\"dataframe\">\n",
              "  <thead>\n",
              "    <tr style=\"text-align: right;\">\n",
              "      <th></th>\n",
              "      <th>emotion</th>\n",
              "      <th>pixels</th>\n",
              "      <th>Usage</th>\n",
              "    </tr>\n",
              "  </thead>\n",
              "  <tbody>\n",
              "    <tr>\n",
              "      <th>0</th>\n",
              "      <td>0</td>\n",
              "      <td>70 80 82 72 58 58 60 63 54 58 60 48 89 115 121...</td>\n",
              "      <td>Training</td>\n",
              "    </tr>\n",
              "    <tr>\n",
              "      <th>1</th>\n",
              "      <td>0</td>\n",
              "      <td>151 150 147 155 148 133 111 140 170 174 182 15...</td>\n",
              "      <td>Training</td>\n",
              "    </tr>\n",
              "    <tr>\n",
              "      <th>2</th>\n",
              "      <td>2</td>\n",
              "      <td>231 212 156 164 174 138 161 173 182 200 106 38...</td>\n",
              "      <td>Training</td>\n",
              "    </tr>\n",
              "    <tr>\n",
              "      <th>3</th>\n",
              "      <td>4</td>\n",
              "      <td>24 32 36 30 32 23 19 20 30 41 21 22 32 34 21 1...</td>\n",
              "      <td>Training</td>\n",
              "    </tr>\n",
              "    <tr>\n",
              "      <th>4</th>\n",
              "      <td>6</td>\n",
              "      <td>4 0 0 0 0 0 0 0 0 0 0 0 3 15 23 28 48 50 58 84...</td>\n",
              "      <td>Training</td>\n",
              "    </tr>\n",
              "  </tbody>\n",
              "</table>\n",
              "</div>\n",
              "      <button class=\"colab-df-convert\" onclick=\"convertToInteractive('df-d87b28c5-5544-47c1-8918-bc806ae29565')\"\n",
              "              title=\"Convert this dataframe to an interactive table.\"\n",
              "              style=\"display:none;\">\n",
              "        \n",
              "  <svg xmlns=\"http://www.w3.org/2000/svg\" height=\"24px\"viewBox=\"0 0 24 24\"\n",
              "       width=\"24px\">\n",
              "    <path d=\"M0 0h24v24H0V0z\" fill=\"none\"/>\n",
              "    <path d=\"M18.56 5.44l.94 2.06.94-2.06 2.06-.94-2.06-.94-.94-2.06-.94 2.06-2.06.94zm-11 1L8.5 8.5l.94-2.06 2.06-.94-2.06-.94L8.5 2.5l-.94 2.06-2.06.94zm10 10l.94 2.06.94-2.06 2.06-.94-2.06-.94-.94-2.06-.94 2.06-2.06.94z\"/><path d=\"M17.41 7.96l-1.37-1.37c-.4-.4-.92-.59-1.43-.59-.52 0-1.04.2-1.43.59L10.3 9.45l-7.72 7.72c-.78.78-.78 2.05 0 2.83L4 21.41c.39.39.9.59 1.41.59.51 0 1.02-.2 1.41-.59l7.78-7.78 2.81-2.81c.8-.78.8-2.07 0-2.86zM5.41 20L4 18.59l7.72-7.72 1.47 1.35L5.41 20z\"/>\n",
              "  </svg>\n",
              "      </button>\n",
              "      \n",
              "  <style>\n",
              "    .colab-df-container {\n",
              "      display:flex;\n",
              "      flex-wrap:wrap;\n",
              "      gap: 12px;\n",
              "    }\n",
              "\n",
              "    .colab-df-convert {\n",
              "      background-color: #E8F0FE;\n",
              "      border: none;\n",
              "      border-radius: 50%;\n",
              "      cursor: pointer;\n",
              "      display: none;\n",
              "      fill: #1967D2;\n",
              "      height: 32px;\n",
              "      padding: 0 0 0 0;\n",
              "      width: 32px;\n",
              "    }\n",
              "\n",
              "    .colab-df-convert:hover {\n",
              "      background-color: #E2EBFA;\n",
              "      box-shadow: 0px 1px 2px rgba(60, 64, 67, 0.3), 0px 1px 3px 1px rgba(60, 64, 67, 0.15);\n",
              "      fill: #174EA6;\n",
              "    }\n",
              "\n",
              "    [theme=dark] .colab-df-convert {\n",
              "      background-color: #3B4455;\n",
              "      fill: #D2E3FC;\n",
              "    }\n",
              "\n",
              "    [theme=dark] .colab-df-convert:hover {\n",
              "      background-color: #434B5C;\n",
              "      box-shadow: 0px 1px 3px 1px rgba(0, 0, 0, 0.15);\n",
              "      filter: drop-shadow(0px 1px 2px rgba(0, 0, 0, 0.3));\n",
              "      fill: #FFFFFF;\n",
              "    }\n",
              "  </style>\n",
              "\n",
              "      <script>\n",
              "        const buttonEl =\n",
              "          document.querySelector('#df-d87b28c5-5544-47c1-8918-bc806ae29565 button.colab-df-convert');\n",
              "        buttonEl.style.display =\n",
              "          google.colab.kernel.accessAllowed ? 'block' : 'none';\n",
              "\n",
              "        async function convertToInteractive(key) {\n",
              "          const element = document.querySelector('#df-d87b28c5-5544-47c1-8918-bc806ae29565');\n",
              "          const dataTable =\n",
              "            await google.colab.kernel.invokeFunction('convertToInteractive',\n",
              "                                                     [key], {});\n",
              "          if (!dataTable) return;\n",
              "\n",
              "          const docLinkHtml = 'Like what you see? Visit the ' +\n",
              "            '<a target=\"_blank\" href=https://colab.research.google.com/notebooks/data_table.ipynb>data table notebook</a>'\n",
              "            + ' to learn more about interactive tables.';\n",
              "          element.innerHTML = '';\n",
              "          dataTable['output_type'] = 'display_data';\n",
              "          await google.colab.output.renderOutput(dataTable, element);\n",
              "          const docLink = document.createElement('div');\n",
              "          docLink.innerHTML = docLinkHtml;\n",
              "          element.appendChild(docLink);\n",
              "        }\n",
              "      </script>\n",
              "    </div>\n",
              "  </div>\n",
              "  "
            ],
            "text/plain": [
              "   emotion                                             pixels     Usage\n",
              "0        0  70 80 82 72 58 58 60 63 54 58 60 48 89 115 121...  Training\n",
              "1        0  151 150 147 155 148 133 111 140 170 174 182 15...  Training\n",
              "2        2  231 212 156 164 174 138 161 173 182 200 106 38...  Training\n",
              "3        4  24 32 36 30 32 23 19 20 30 41 21 22 32 34 21 1...  Training\n",
              "4        6  4 0 0 0 0 0 0 0 0 0 0 0 3 15 23 28 48 50 58 84...  Training"
            ]
          },
          "metadata": {},
          "execution_count": 5
        }
      ]
    },
    {
      "cell_type": "code",
      "source": [
        "df.tail()"
      ],
      "metadata": {
        "colab": {
          "base_uri": "https://localhost:8080/",
          "height": 206
        },
        "id": "G264BWYIdIMy",
        "outputId": "0b3761dd-54d4-4385-cd5a-8764fcde9228"
      },
      "execution_count": 6,
      "outputs": [
        {
          "output_type": "execute_result",
          "data": {
            "text/html": [
              "\n",
              "  <div id=\"df-7b450213-9cc5-4f4c-97e8-e569bf87d14e\">\n",
              "    <div class=\"colab-df-container\">\n",
              "      <div>\n",
              "<style scoped>\n",
              "    .dataframe tbody tr th:only-of-type {\n",
              "        vertical-align: middle;\n",
              "    }\n",
              "\n",
              "    .dataframe tbody tr th {\n",
              "        vertical-align: top;\n",
              "    }\n",
              "\n",
              "    .dataframe thead th {\n",
              "        text-align: right;\n",
              "    }\n",
              "</style>\n",
              "<table border=\"1\" class=\"dataframe\">\n",
              "  <thead>\n",
              "    <tr style=\"text-align: right;\">\n",
              "      <th></th>\n",
              "      <th>emotion</th>\n",
              "      <th>pixels</th>\n",
              "      <th>Usage</th>\n",
              "    </tr>\n",
              "  </thead>\n",
              "  <tbody>\n",
              "    <tr>\n",
              "      <th>35882</th>\n",
              "      <td>6</td>\n",
              "      <td>50 36 17 22 23 29 33 39 34 37 37 37 39 43 48 5...</td>\n",
              "      <td>PrivateTest</td>\n",
              "    </tr>\n",
              "    <tr>\n",
              "      <th>35883</th>\n",
              "      <td>3</td>\n",
              "      <td>178 174 172 173 181 188 191 194 196 199 200 20...</td>\n",
              "      <td>PrivateTest</td>\n",
              "    </tr>\n",
              "    <tr>\n",
              "      <th>35884</th>\n",
              "      <td>0</td>\n",
              "      <td>17 17 16 23 28 22 19 17 25 26 20 24 31 19 27 9...</td>\n",
              "      <td>PrivateTest</td>\n",
              "    </tr>\n",
              "    <tr>\n",
              "      <th>35885</th>\n",
              "      <td>3</td>\n",
              "      <td>30 28 28 29 31 30 42 68 79 81 77 67 67 71 63 6...</td>\n",
              "      <td>PrivateTest</td>\n",
              "    </tr>\n",
              "    <tr>\n",
              "      <th>35886</th>\n",
              "      <td>2</td>\n",
              "      <td>19 13 14 12 13 16 21 33 50 57 71 84 97 108 122...</td>\n",
              "      <td>PrivateTest</td>\n",
              "    </tr>\n",
              "  </tbody>\n",
              "</table>\n",
              "</div>\n",
              "      <button class=\"colab-df-convert\" onclick=\"convertToInteractive('df-7b450213-9cc5-4f4c-97e8-e569bf87d14e')\"\n",
              "              title=\"Convert this dataframe to an interactive table.\"\n",
              "              style=\"display:none;\">\n",
              "        \n",
              "  <svg xmlns=\"http://www.w3.org/2000/svg\" height=\"24px\"viewBox=\"0 0 24 24\"\n",
              "       width=\"24px\">\n",
              "    <path d=\"M0 0h24v24H0V0z\" fill=\"none\"/>\n",
              "    <path d=\"M18.56 5.44l.94 2.06.94-2.06 2.06-.94-2.06-.94-.94-2.06-.94 2.06-2.06.94zm-11 1L8.5 8.5l.94-2.06 2.06-.94-2.06-.94L8.5 2.5l-.94 2.06-2.06.94zm10 10l.94 2.06.94-2.06 2.06-.94-2.06-.94-.94-2.06-.94 2.06-2.06.94z\"/><path d=\"M17.41 7.96l-1.37-1.37c-.4-.4-.92-.59-1.43-.59-.52 0-1.04.2-1.43.59L10.3 9.45l-7.72 7.72c-.78.78-.78 2.05 0 2.83L4 21.41c.39.39.9.59 1.41.59.51 0 1.02-.2 1.41-.59l7.78-7.78 2.81-2.81c.8-.78.8-2.07 0-2.86zM5.41 20L4 18.59l7.72-7.72 1.47 1.35L5.41 20z\"/>\n",
              "  </svg>\n",
              "      </button>\n",
              "      \n",
              "  <style>\n",
              "    .colab-df-container {\n",
              "      display:flex;\n",
              "      flex-wrap:wrap;\n",
              "      gap: 12px;\n",
              "    }\n",
              "\n",
              "    .colab-df-convert {\n",
              "      background-color: #E8F0FE;\n",
              "      border: none;\n",
              "      border-radius: 50%;\n",
              "      cursor: pointer;\n",
              "      display: none;\n",
              "      fill: #1967D2;\n",
              "      height: 32px;\n",
              "      padding: 0 0 0 0;\n",
              "      width: 32px;\n",
              "    }\n",
              "\n",
              "    .colab-df-convert:hover {\n",
              "      background-color: #E2EBFA;\n",
              "      box-shadow: 0px 1px 2px rgba(60, 64, 67, 0.3), 0px 1px 3px 1px rgba(60, 64, 67, 0.15);\n",
              "      fill: #174EA6;\n",
              "    }\n",
              "\n",
              "    [theme=dark] .colab-df-convert {\n",
              "      background-color: #3B4455;\n",
              "      fill: #D2E3FC;\n",
              "    }\n",
              "\n",
              "    [theme=dark] .colab-df-convert:hover {\n",
              "      background-color: #434B5C;\n",
              "      box-shadow: 0px 1px 3px 1px rgba(0, 0, 0, 0.15);\n",
              "      filter: drop-shadow(0px 1px 2px rgba(0, 0, 0, 0.3));\n",
              "      fill: #FFFFFF;\n",
              "    }\n",
              "  </style>\n",
              "\n",
              "      <script>\n",
              "        const buttonEl =\n",
              "          document.querySelector('#df-7b450213-9cc5-4f4c-97e8-e569bf87d14e button.colab-df-convert');\n",
              "        buttonEl.style.display =\n",
              "          google.colab.kernel.accessAllowed ? 'block' : 'none';\n",
              "\n",
              "        async function convertToInteractive(key) {\n",
              "          const element = document.querySelector('#df-7b450213-9cc5-4f4c-97e8-e569bf87d14e');\n",
              "          const dataTable =\n",
              "            await google.colab.kernel.invokeFunction('convertToInteractive',\n",
              "                                                     [key], {});\n",
              "          if (!dataTable) return;\n",
              "\n",
              "          const docLinkHtml = 'Like what you see? Visit the ' +\n",
              "            '<a target=\"_blank\" href=https://colab.research.google.com/notebooks/data_table.ipynb>data table notebook</a>'\n",
              "            + ' to learn more about interactive tables.';\n",
              "          element.innerHTML = '';\n",
              "          dataTable['output_type'] = 'display_data';\n",
              "          await google.colab.output.renderOutput(dataTable, element);\n",
              "          const docLink = document.createElement('div');\n",
              "          docLink.innerHTML = docLinkHtml;\n",
              "          element.appendChild(docLink);\n",
              "        }\n",
              "      </script>\n",
              "    </div>\n",
              "  </div>\n",
              "  "
            ],
            "text/plain": [
              "       emotion                                             pixels        Usage\n",
              "35882        6  50 36 17 22 23 29 33 39 34 37 37 37 39 43 48 5...  PrivateTest\n",
              "35883        3  178 174 172 173 181 188 191 194 196 199 200 20...  PrivateTest\n",
              "35884        0  17 17 16 23 28 22 19 17 25 26 20 24 31 19 27 9...  PrivateTest\n",
              "35885        3  30 28 28 29 31 30 42 68 79 81 77 67 67 71 63 6...  PrivateTest\n",
              "35886        2  19 13 14 12 13 16 21 33 50 57 71 84 97 108 122...  PrivateTest"
            ]
          },
          "metadata": {},
          "execution_count": 6
        }
      ]
    },
    {
      "cell_type": "code",
      "source": [
        "df.info()"
      ],
      "metadata": {
        "colab": {
          "base_uri": "https://localhost:8080/"
        },
        "id": "hPc0pAGtdKV9",
        "outputId": "28424b73-d924-47d5-f685-a59f3e19e296"
      },
      "execution_count": 7,
      "outputs": [
        {
          "output_type": "stream",
          "name": "stdout",
          "text": [
            "<class 'pandas.core.frame.DataFrame'>\n",
            "RangeIndex: 35887 entries, 0 to 35886\n",
            "Data columns (total 3 columns):\n",
            " #   Column   Non-Null Count  Dtype \n",
            "---  ------   --------------  ----- \n",
            " 0   emotion  35887 non-null  int64 \n",
            " 1   pixels   35887 non-null  object\n",
            " 2   Usage    35887 non-null  object\n",
            "dtypes: int64(1), object(2)\n",
            "memory usage: 841.2+ KB\n"
          ]
        }
      ]
    },
    {
      "cell_type": "code",
      "source": [
        "# Total number of Emotion \n",
        "df.emotion.unique()"
      ],
      "metadata": {
        "colab": {
          "base_uri": "https://localhost:8080/"
        },
        "id": "leroJDsvQYbL",
        "outputId": "ec5b780c-a7e4-4685-a8ba-c0edc35cdbb1"
      },
      "execution_count": 8,
      "outputs": [
        {
          "output_type": "execute_result",
          "data": {
            "text/plain": [
              "array([0, 2, 4, 6, 3, 5, 1])"
            ]
          },
          "metadata": {},
          "execution_count": 8
        }
      ]
    },
    {
      "cell_type": "code",
      "source": [
        "#Assigning Names to Emotions in labels\n",
        "emotion_dict = {0: 'anger', 1: 'disgust', 2: 'fear', 3: 'happy', 4: 'sad',5: 'suprise', 6: 'neutral'}\n",
        "width = 48\n",
        "height = 48\n",
        "classes=np.array((\"Angry\", \"Disgust\", \"Fear\", \"Happy\", \"Sad\", \"Surprise\", \"Neutral\"))\n",
        "df.Usage.value_counts()"
      ],
      "metadata": {
        "colab": {
          "base_uri": "https://localhost:8080/"
        },
        "id": "6AUh3gFDQYY-",
        "outputId": "17bafe87-e06f-403c-8d7f-79e925180c7e"
      },
      "execution_count": 9,
      "outputs": [
        {
          "output_type": "execute_result",
          "data": {
            "text/plain": [
              "Training       28709\n",
              "PublicTest      3589\n",
              "PrivateTest     3589\n",
              "Name: Usage, dtype: int64"
            ]
          },
          "metadata": {},
          "execution_count": 9
        }
      ]
    },
    {
      "cell_type": "markdown",
      "source": [
        "## Pre trained model"
      ],
      "metadata": {
        "id": "XpyRxonEDHx_"
      }
    },
    {
      "cell_type": "code",
      "source": [
        "# working with pre trained model\n",
        "'''\n",
        "base_model = MobileNet(input_shape=(224,224,3), include_top= False)\n",
        "\n",
        "for layer in base_model.layers:\n",
        "  layer.trainable = False\n",
        "\n",
        "x = Flatten()(base_model.output)\n",
        "x = Dense(units=7, activation = 'softmax')(x)\n",
        "\n",
        "#creating our model \n",
        "model = Model(base_model.input, x)'''"
      ],
      "metadata": {
        "id": "hiEc5ycmBdiE",
        "colab": {
          "base_uri": "https://localhost:8080/",
          "height": 53
        },
        "outputId": "8d295e97-a464-44c2-9931-0d6fd995cd53"
      },
      "execution_count": null,
      "outputs": [
        {
          "output_type": "execute_result",
          "data": {
            "application/vnd.google.colaboratory.intrinsic+json": {
              "type": "string"
            },
            "text/plain": [
              "\"\\nbase_model = MobileNet(input_shape=(224,224,3), include_top= False)\\n\\nfor layer in base_model.layers:\\n  layer.trainable = False\\n\\nx = Flatten()(base_model.output)\\nx = Dense(units=7, activation = 'softmax')(x)\\n\\n#creating our model \\nmodel = Model(base_model.input, x)\""
            ]
          },
          "metadata": {},
          "execution_count": 10
        }
      ]
    },
    {
      "cell_type": "markdown",
      "source": [
        "## Train and Test data sets"
      ],
      "metadata": {
        "id": "xJ6IZrtIaK0q"
      }
    },
    {
      "cell_type": "code",
      "source": [
        "X_train = []\n",
        "y_train = []\n",
        "X_test = []\n",
        "y_test = []\n",
        "k = np.array(list(map(int,df.iloc[0,1].split(\" \"))),dtype='uint8').reshape((48,48))\n",
        "for index, row in df.iterrows():\n",
        "    k = row['pixels'].split(\" \")\n",
        "    if row['Usage'] == 'Training':\n",
        "        X_train.append(np.array(k))\n",
        "        y_train.append(row['emotion'])\n",
        "    elif row['Usage'] == 'PublicTest':\n",
        "        X_test.append(np.array(k))\n",
        "        y_test.append(row['emotion'])"
      ],
      "metadata": {
        "id": "0U-u11KEaZBc"
      },
      "execution_count": 10,
      "outputs": []
    },
    {
      "cell_type": "code",
      "source": [
        "X_train[0]"
      ],
      "metadata": {
        "colab": {
          "base_uri": "https://localhost:8080/"
        },
        "id": "4s1_lT8mabD6",
        "outputId": "d216782a-dd9f-4973-bca8-329261c66239"
      },
      "execution_count": 11,
      "outputs": [
        {
          "output_type": "execute_result",
          "data": {
            "text/plain": [
              "array(['70', '80', '82', ..., '106', '109', '82'], dtype='<U3')"
            ]
          },
          "metadata": {},
          "execution_count": 11
        }
      ]
    },
    {
      "cell_type": "code",
      "source": [
        "X_train = np.array(X_train, dtype = 'uint8')\n",
        "y_train = np.array(y_train, dtype = 'uint8')\n",
        "X_test = np.array(X_test, dtype = 'uint8')\n",
        "y_test = np.array(y_test, dtype = 'uint8')"
      ],
      "metadata": {
        "id": "puaPgkb7diG6"
      },
      "execution_count": 12,
      "outputs": []
    },
    {
      "cell_type": "code",
      "source": [
        "X_train = X_train.reshape(X_train.shape[0], 48, 48, 1)\n",
        "X_test = X_test.reshape(X_test.shape[0], 48, 48, 1)"
      ],
      "metadata": {
        "id": "3lE20uNYaL3z"
      },
      "execution_count": 13,
      "outputs": []
    },
    {
      "cell_type": "code",
      "source": [
        "X_train.shape,y_train.shape,X_test.shape,y_test.shape"
      ],
      "metadata": {
        "colab": {
          "base_uri": "https://localhost:8080/"
        },
        "id": "Q1YMUJNBaL8I",
        "outputId": "c81ee242-4863-4a83-a62d-cad74cd51df1"
      },
      "execution_count": 14,
      "outputs": [
        {
          "output_type": "execute_result",
          "data": {
            "text/plain": [
              "((28709, 48, 48, 1), (28709,), (3589, 48, 48, 1), (3589,))"
            ]
          },
          "metadata": {},
          "execution_count": 14
        }
      ]
    },
    {
      "cell_type": "code",
      "source": [
        "from keras.utils.np_utils import to_categorical\n",
        "y_train= to_categorical(y_train, num_classes=7)\n",
        "y_test = to_categorical(y_test, num_classes=7)"
      ],
      "metadata": {
        "id": "ntWrthf4aL6C"
      },
      "execution_count": 15,
      "outputs": []
    },
    {
      "cell_type": "markdown",
      "source": [
        "## Preparing our data using data generator"
      ],
      "metadata": {
        "id": "AGG6ysEYEbdH"
      }
    },
    {
      "cell_type": "code",
      "source": [
        "train_datagen = ImageDataGenerator(\n",
        "    shear_range= 0.2,\n",
        "    horizontal_flip= True,\n",
        "    rescale= 1./255,\n",
        "    rotation_range=10,  \n",
        "    zoom_range = 0.0,  \n",
        "    width_shift_range=0.1,  \n",
        "    height_shift_range=0.1,\n",
        "    fill_mode = 'nearest'\n",
        ")"
      ],
      "metadata": {
        "id": "LbeFhV1SEWNi"
      },
      "execution_count": 16,
      "outputs": []
    },
    {
      "cell_type": "code",
      "source": [
        "# creating validation datset\n",
        "val_datagen = ImageDataGenerator(rescale=1./255)\n",
        "\n",
        "train_datagen.fit(X_train)"
      ],
      "metadata": {
        "id": "sIKp0iwWFkID"
      },
      "execution_count": 17,
      "outputs": []
    },
    {
      "cell_type": "code",
      "source": [
        "batch_size = 128\n",
        "train_flow = train_datagen.flow(X_train, y_train, batch_size=batch_size) \n",
        "test_flow = val_datagen.flow(X_test, y_test, batch_size=batch_size)"
      ],
      "metadata": {
        "id": "oSltdWN1PR6L"
      },
      "execution_count": 18,
      "outputs": []
    },
    {
      "cell_type": "markdown",
      "source": [
        "## Visualizing the data that is fed to train datagen"
      ],
      "metadata": {
        "id": "ZXbKcfguGPYA"
      }
    },
    {
      "cell_type": "code",
      "source": [
        "for X_batch, y_batch in train_datagen.flow(X_train, y_train, batch_size=9):\n",
        "    for i in range(0, 9): \n",
        "        plt.axis('off') \n",
        "        plt.subplot(330 + 1 + i) \n",
        "        plt.imshow(X_batch[i].reshape(48, 48), cmap=plt.get_cmap('gray'))\n",
        "    plt.axis('off') \n",
        "    plt.show() \n",
        "    break"
      ],
      "metadata": {
        "colab": {
          "base_uri": "https://localhost:8080/",
          "height": 248
        },
        "id": "1tI_YbecQU9F",
        "outputId": "98a352d5-172f-41b6-c5b5-66af188b562c"
      },
      "execution_count": 19,
      "outputs": [
        {
          "output_type": "display_data",
          "data": {
            "image/png": "[encoded data removed]",
            "text/plain": [
              "<Figure size 432x288 with 9 Axes>"
            ]
          },
          "metadata": {
            "needs_background": "light"
          }
        }
      ]
    },
    {
      "cell_type": "markdown",
      "source": [
        "## having early stopping, model check point, Reduce learning rate"
      ],
      "metadata": {
        "id": "mCT2ktq4HvnG"
      }
    },
    {
      "cell_type": "code",
      "source": [
        "# having early stopping and model check point\n",
        "\n",
        "from keras.callbacks import ModelCheckpoint, EarlyStopping, ReduceLROnPlateau\n",
        "\n",
        "# early stopping \n",
        "es = EarlyStopping(monitor = 'val_accuracy', min_delta=0.01, patience=15, verbose = 1, mode ='auto')\n",
        "\n",
        "# model checkpoint\n",
        "mc = ModelCheckpoint(filepath=\"best_model.hdf5\", monitor = \"val_accuracy\", verbose = 1, save_best_only=True, mode = \"auto\")\n",
        "\n",
        "# Reduce learning rate when a metric has stopped improving\n",
        "reduce_lr = ReduceLROnPlateau(monitor='val_loss', factor=0.1, patience=3, verbose=1, mode='auto', min_delta=0.0001, min_lr=0.001)\n",
        "\n",
        "# putting callback in a list\n",
        "call_back = [es,mc,reduce_lr]"
      ],
      "metadata": {
        "id": "7bv7-dJ8HqFt"
      },
      "execution_count": 20,
      "outputs": []
    },
    {
      "cell_type": "markdown",
      "source": [
        "## Creating model for training"
      ],
      "metadata": {
        "id": "lq8fg0KxOjXk"
      }
    },
    {
      "cell_type": "code",
      "source": [
        "import tensorflow.keras.layers as tfl\n",
        "import tensorflow as tf\n",
        "\n",
        "def model_(input_shape=(48,48,1)):\n",
        "  # first input model\n",
        "    visible = tf.keras.Input(shape=input_shape)\n",
        "\n",
        "    # Conv Block 1\n",
        "    conv1 = tfl.Conv2D(64, (3,3), padding='same', input_shape=(48,48,1))(visible)\n",
        "    bn1 = tfl.BatchNormalization()(conv1)\n",
        "    rl1 = tfl.ReLU()(bn1)\n",
        "    mp1 = tfl.MaxPooling2D(pool_size=(2,2))(rl1)\n",
        "    dp1 = tfl.Dropout(0.25)(mp1)\n",
        "\n",
        "    # Conv Block 2\n",
        "    conv2 = tfl.Conv2D(128,(5,5), padding='same')(dp1)\n",
        "    bn2 = tfl.BatchNormalization()(conv2)\n",
        "    rl2 = tfl.ReLU()(bn2)\n",
        "    mp2 = tfl.MaxPooling2D(pool_size=(2,2))(rl2)\n",
        "    dp2 = tfl.Dropout(0.25)(mp2)\n",
        "\n",
        "    # Conv Block 3\n",
        "    conv3 = tfl.Conv2D(512,(3,3), padding='same')(dp2)\n",
        "    bn3 = tfl.BatchNormalization()(conv3)\n",
        "    rl3 = tfl.ReLU()(bn3)\n",
        "    mp3 = tfl.MaxPooling2D(pool_size=(2,2))(rl3)\n",
        "    dp3 = tfl.Dropout(0.25)(mp3)\n",
        "\n",
        "    # Conv Block 4\n",
        "    conv4 = tfl.Conv2D(512,(3,3), padding='same')(dp3)\n",
        "    bn4 = tfl.BatchNormalization()(conv4)\n",
        "    rl4 = tfl.ReLU()(bn4)\n",
        "    mp4 = tfl.MaxPooling2D(pool_size=(2,2))(rl4)\n",
        "    dp4 = tfl.Dropout(0.25)(mp4)\n",
        "\n",
        "    #Flatten and output\n",
        "\n",
        "    flatten = tfl.Flatten(name = 'flatten')(dp4)\n",
        "    #dn = tfl.Dense(256, activation='relu')(flatten)\n",
        "    #bn = tfl.BatchNormalization()(dn)\n",
        "    #dp = tfl.Dropout(0.25)(bn)\n",
        "\n",
        "    ouput = tfl.Dense(7, activation='softmax')(flatten)\n",
        "\n",
        "    # create model \n",
        "    model = tf.keras.Model(inputs =visible, outputs = ouput)\n",
        "\n",
        "    # summary layers\n",
        "    print(model.summary())\n",
        "    \n",
        "    return model"
      ],
      "metadata": {
        "id": "OpUd2mADiaml"
      },
      "execution_count": 21,
      "outputs": []
    },
    {
      "cell_type": "code",
      "source": [
        "model = model_()\n",
        "for layer in model.layers:\n",
        "    layer.trainable = True\n",
        "model.compile(loss='categorical_crossentropy',optimizer='Adam',metrics=['accuracy'])"
      ],
      "metadata": {
        "colab": {
          "base_uri": "https://localhost:8080/"
        },
        "id": "Erlp_L0Yu3vL",
        "outputId": "f2a53447-3239-4d01-b590-e571ce5794f4"
      },
      "execution_count": 22,
      "outputs": [
        {
          "output_type": "stream",
          "name": "stdout",
          "text": [
            "Model: \"model\"\n",
            "_________________________________________________________________\n",
            " Layer (type)                Output Shape              Param #   \n",
            "=================================================================\n",
            " input_1 (InputLayer)        [(None, 48, 48, 1)]       0         \n",
            "                                                                 \n",
            " conv2d (Conv2D)             (None, 48, 48, 64)        640       \n",
            "                                                                 \n",
            " batch_normalization (BatchN  (None, 48, 48, 64)       256       \n",
            " ormalization)                                                   \n",
            "                                                                 \n",
            " re_lu (ReLU)                (None, 48, 48, 64)        0         \n",
            "                                                                 \n",
            " max_pooling2d (MaxPooling2D  (None, 24, 24, 64)       0         \n",
            " )                                                               \n",
            "                                                                 \n",
            " dropout (Dropout)           (None, 24, 24, 64)        0         \n",
            "                                                                 \n",
            " conv2d_1 (Conv2D)           (None, 24, 24, 128)       204928    \n",
            "                                                                 \n",
            " batch_normalization_1 (Batc  (None, 24, 24, 128)      512       \n",
            " hNormalization)                                                 \n",
            "                                                                 \n",
            " re_lu_1 (ReLU)              (None, 24, 24, 128)       0         \n",
            "                                                                 \n",
            " max_pooling2d_1 (MaxPooling  (None, 12, 12, 128)      0         \n",
            " 2D)                                                             \n",
            "                                                                 \n",
            " dropout_1 (Dropout)         (None, 12, 12, 128)       0         \n",
            "                                                                 \n",
            " conv2d_2 (Conv2D)           (None, 12, 12, 512)       590336    \n",
            "                                                                 \n",
            " batch_normalization_2 (Batc  (None, 12, 12, 512)      2048      \n",
            " hNormalization)                                                 \n",
            "                                                                 \n",
            " re_lu_2 (ReLU)              (None, 12, 12, 512)       0         \n",
            "                                                                 \n",
            " max_pooling2d_2 (MaxPooling  (None, 6, 6, 512)        0         \n",
            " 2D)                                                             \n",
            "                                                                 \n",
            " dropout_2 (Dropout)         (None, 6, 6, 512)         0         \n",
            "                                                                 \n",
            " conv2d_3 (Conv2D)           (None, 6, 6, 512)         2359808   \n",
            "                                                                 \n",
            " batch_normalization_3 (Batc  (None, 6, 6, 512)        2048      \n",
            " hNormalization)                                                 \n",
            "                                                                 \n",
            " re_lu_3 (ReLU)              (None, 6, 6, 512)         0         \n",
            "                                                                 \n",
            " max_pooling2d_3 (MaxPooling  (None, 3, 3, 512)        0         \n",
            " 2D)                                                             \n",
            "                                                                 \n",
            " dropout_3 (Dropout)         (None, 3, 3, 512)         0         \n",
            "                                                                 \n",
            " flatten (Flatten)           (None, 4608)              0         \n",
            "                                                                 \n",
            " dense (Dense)               (None, 7)                 32263     \n",
            "                                                                 \n",
            "=================================================================\n",
            "Total params: 3,192,839\n",
            "Trainable params: 3,190,407\n",
            "Non-trainable params: 2,432\n",
            "_________________________________________________________________\n",
            "None\n"
          ]
        }
      ]
    },
    {
      "cell_type": "code",
      "source": [
        "batch_size = 128\n",
        "epochs = 100\n",
        "\n",
        "history = model.fit(train_flow, \n",
        "                    steps_per_epoch=len(X_train) / batch_size,\n",
        "                    epochs=epochs,\n",
        "                    validation_data = test_flow,\n",
        "                    validation_steps = len(X_test) / batch_size,\n",
        "                    callbacks = [es,mc,reduce_lr],\n",
        "                    verbose = 1)"
      ],
      "metadata": {
        "id": "8h1oEPkbI-QF",
        "colab": {
          "base_uri": "https://localhost:8080/"
        },
        "outputId": "dfa5e63a-cf4b-4388-b1a7-c8c2dd72078a"
      },
      "execution_count": 23,
      "outputs": [
        {
          "output_type": "stream",
          "name": "stdout",
          "text": [
            "Epoch 1/100\n",
            "225/224 [==============================] - ETA: 0s - loss: 2.2079 - accuracy: 0.2353\n",
            "Epoch 00001: val_accuracy improved from -inf to 0.18194, saving model to best_model.hdf5\n",
            "224/224 [==============================] - 27s 108ms/step - loss: 2.2079 - accuracy: 0.2353 - val_loss: 1.8644 - val_accuracy: 0.1819 - lr: 0.0010\n",
            "Epoch 2/100\n",
            "225/224 [==============================] - ETA: 0s - loss: 1.8494 - accuracy: 0.2861\n",
            "Epoch 00002: val_accuracy improved from 0.18194 to 0.25327, saving model to best_model.hdf5\n",
            "224/224 [==============================] - 24s 106ms/step - loss: 1.8494 - accuracy: 0.2861 - val_loss: 2.0024 - val_accuracy: 0.2533 - lr: 0.0010\n",
            "Epoch 3/100\n",
            "225/224 [==============================] - ETA: 0s - loss: 1.6719 - accuracy: 0.3634\n",
            "Epoch 00003: val_accuracy improved from 0.25327 to 0.41878, saving model to best_model.hdf5\n",
            "224/224 [==============================] - 24s 106ms/step - loss: 1.6719 - accuracy: 0.3634 - val_loss: 1.5177 - val_accuracy: 0.4188 - lr: 0.0010\n",
            "Epoch 4/100\n",
            "225/224 [==============================] - ETA: 0s - loss: 1.5224 - accuracy: 0.4201\n",
            "Epoch 00004: val_accuracy did not improve from 0.41878\n",
            "224/224 [==============================] - 24s 106ms/step - loss: 1.5224 - accuracy: 0.4201 - val_loss: 1.8367 - val_accuracy: 0.3313 - lr: 0.0010\n",
            "Epoch 5/100\n",
            "225/224 [==============================] - ETA: 0s - loss: 1.4233 - accuracy: 0.4572\n",
            "Epoch 00005: val_accuracy improved from 0.41878 to 0.45946, saving model to best_model.hdf5\n",
            "224/224 [==============================] - 24s 106ms/step - loss: 1.4233 - accuracy: 0.4572 - val_loss: 1.4394 - val_accuracy: 0.4595 - lr: 0.0010\n",
            "Epoch 6/100\n",
            "225/224 [==============================] - ETA: 0s - loss: 1.3529 - accuracy: 0.4852\n",
            "Epoch 00006: val_accuracy improved from 0.45946 to 0.47451, saving model to best_model.hdf5\n",
            "224/224 [==============================] - 24s 109ms/step - loss: 1.3529 - accuracy: 0.4852 - val_loss: 1.3731 - val_accuracy: 0.4745 - lr: 0.0010\n",
            "Epoch 7/100\n",
            "225/224 [==============================] - ETA: 0s - loss: 1.3112 - accuracy: 0.5034\n",
            "Epoch 00007: val_accuracy improved from 0.47451 to 0.49652, saving model to best_model.hdf5\n",
            "224/224 [==============================] - 24s 107ms/step - loss: 1.3112 - accuracy: 0.5034 - val_loss: 1.3250 - val_accuracy: 0.4965 - lr: 0.0010\n",
            "Epoch 8/100\n",
            "225/224 [==============================] - ETA: 0s - loss: 1.2624 - accuracy: 0.5220\n",
            "Epoch 00008: val_accuracy improved from 0.49652 to 0.52020, saving model to best_model.hdf5\n",
            "224/224 [==============================] - 24s 107ms/step - loss: 1.2624 - accuracy: 0.5220 - val_loss: 1.3175 - val_accuracy: 0.5202 - lr: 0.0010\n",
            "Epoch 9/100\n",
            "225/224 [==============================] - ETA: 0s - loss: 1.2261 - accuracy: 0.5372\n",
            "Epoch 00009: val_accuracy improved from 0.52020 to 0.55252, saving model to best_model.hdf5\n",
            "224/224 [==============================] - 24s 107ms/step - loss: 1.2261 - accuracy: 0.5372 - val_loss: 1.2183 - val_accuracy: 0.5525 - lr: 0.0010\n",
            "Epoch 10/100\n",
            "225/224 [==============================] - ETA: 0s - loss: 1.2030 - accuracy: 0.5429\n",
            "Epoch 00010: val_accuracy improved from 0.55252 to 0.56896, saving model to best_model.hdf5\n",
            "224/224 [==============================] - 24s 107ms/step - loss: 1.2030 - accuracy: 0.5429 - val_loss: 1.1393 - val_accuracy: 0.5690 - lr: 0.0010\n",
            "Epoch 11/100\n",
            "225/224 [==============================] - ETA: 0s - loss: 1.1709 - accuracy: 0.5554\n",
            "Epoch 00011: val_accuracy did not improve from 0.56896\n",
            "224/224 [==============================] - 24s 107ms/step - loss: 1.1709 - accuracy: 0.5554 - val_loss: 1.1489 - val_accuracy: 0.5634 - lr: 0.0010\n",
            "Epoch 12/100\n",
            "225/224 [==============================] - ETA: 0s - loss: 1.1477 - accuracy: 0.5673\n",
            "Epoch 00012: val_accuracy did not improve from 0.56896\n",
            "224/224 [==============================] - 24s 105ms/step - loss: 1.1477 - accuracy: 0.5673 - val_loss: 1.2111 - val_accuracy: 0.5408 - lr: 0.0010\n",
            "Epoch 13/100\n",
            "225/224 [==============================] - ETA: 0s - loss: 1.1282 - accuracy: 0.5722\n",
            "Epoch 00013: val_accuracy did not improve from 0.56896\n",
            "224/224 [==============================] - 24s 106ms/step - loss: 1.1282 - accuracy: 0.5722 - val_loss: 1.1726 - val_accuracy: 0.5545 - lr: 0.0010\n",
            "Epoch 14/100\n",
            "225/224 [==============================] - ETA: 0s - loss: 1.1126 - accuracy: 0.5794\n",
            "Epoch 00014: val_accuracy did not improve from 0.56896\n",
            "224/224 [==============================] - 24s 105ms/step - loss: 1.1126 - accuracy: 0.5794 - val_loss: 1.5794 - val_accuracy: 0.3881 - lr: 0.0010\n",
            "Epoch 15/100\n",
            "225/224 [==============================] - ETA: 0s - loss: 1.0901 - accuracy: 0.5892\n",
            "Epoch 00015: val_accuracy improved from 0.56896 to 0.57119, saving model to best_model.hdf5\n",
            "224/224 [==============================] - 24s 107ms/step - loss: 1.0901 - accuracy: 0.5892 - val_loss: 1.1436 - val_accuracy: 0.5712 - lr: 0.0010\n",
            "Epoch 16/100\n",
            "225/224 [==============================] - ETA: 0s - loss: 1.0855 - accuracy: 0.5896\n",
            "Epoch 00016: val_accuracy improved from 0.57119 to 0.57927, saving model to best_model.hdf5\n",
            "224/224 [==============================] - 24s 106ms/step - loss: 1.0855 - accuracy: 0.5896 - val_loss: 1.1118 - val_accuracy: 0.5793 - lr: 0.0010\n",
            "Epoch 17/100\n",
            "225/224 [==============================] - ETA: 0s - loss: 1.0734 - accuracy: 0.5946\n",
            "Epoch 00017: val_accuracy improved from 0.57927 to 0.58819, saving model to best_model.hdf5\n",
            "224/224 [==============================] - 24s 107ms/step - loss: 1.0734 - accuracy: 0.5946 - val_loss: 1.0992 - val_accuracy: 0.5882 - lr: 0.0010\n",
            "Epoch 18/100\n",
            "225/224 [==============================] - ETA: 0s - loss: 1.0543 - accuracy: 0.6051\n",
            "Epoch 00018: val_accuracy did not improve from 0.58819\n",
            "224/224 [==============================] - 24s 106ms/step - loss: 1.0543 - accuracy: 0.6051 - val_loss: 1.1182 - val_accuracy: 0.5879 - lr: 0.0010\n",
            "Epoch 19/100\n",
            "225/224 [==============================] - ETA: 0s - loss: 1.0489 - accuracy: 0.6069\n",
            "Epoch 00019: val_accuracy did not improve from 0.58819\n",
            "224/224 [==============================] - 24s 106ms/step - loss: 1.0489 - accuracy: 0.6069 - val_loss: 1.2174 - val_accuracy: 0.5442 - lr: 0.0010\n",
            "Epoch 20/100\n",
            "225/224 [==============================] - ETA: 0s - loss: 1.0338 - accuracy: 0.6135\n",
            "Epoch 00020: val_accuracy did not improve from 0.58819\n",
            "224/224 [==============================] - 24s 106ms/step - loss: 1.0338 - accuracy: 0.6135 - val_loss: 1.2654 - val_accuracy: 0.5252 - lr: 0.0010\n",
            "Epoch 21/100\n",
            "225/224 [==============================] - ETA: 0s - loss: 1.0235 - accuracy: 0.6163\n",
            "Epoch 00021: val_accuracy did not improve from 0.58819\n",
            "224/224 [==============================] - 23s 104ms/step - loss: 1.0235 - accuracy: 0.6163 - val_loss: 1.1507 - val_accuracy: 0.5584 - lr: 0.0010\n",
            "Epoch 22/100\n",
            "225/224 [==============================] - ETA: 0s - loss: 1.0150 - accuracy: 0.6204\n",
            "Epoch 00022: val_accuracy did not improve from 0.58819\n",
            "224/224 [==============================] - 23s 103ms/step - loss: 1.0150 - accuracy: 0.6204 - val_loss: 1.1645 - val_accuracy: 0.5631 - lr: 0.0010\n",
            "Epoch 23/100\n",
            "225/224 [==============================] - ETA: 0s - loss: 1.0039 - accuracy: 0.6241\n",
            "Epoch 00023: val_accuracy did not improve from 0.58819\n",
            "224/224 [==============================] - 23s 102ms/step - loss: 1.0039 - accuracy: 0.6241 - val_loss: 1.1256 - val_accuracy: 0.5768 - lr: 0.0010\n",
            "Epoch 24/100\n",
            "225/224 [==============================] - ETA: 0s - loss: 0.9933 - accuracy: 0.6303\n",
            "Epoch 00024: val_accuracy did not improve from 0.58819\n",
            "224/224 [==============================] - 23s 103ms/step - loss: 0.9933 - accuracy: 0.6303 - val_loss: 1.2092 - val_accuracy: 0.5450 - lr: 0.0010\n",
            "Epoch 25/100\n",
            "225/224 [==============================] - ETA: 0s - loss: 0.9821 - accuracy: 0.6324\n",
            "Epoch 00025: val_accuracy improved from 0.58819 to 0.59794, saving model to best_model.hdf5\n",
            "224/224 [==============================] - 23s 103ms/step - loss: 0.9821 - accuracy: 0.6324 - val_loss: 1.0886 - val_accuracy: 0.5979 - lr: 0.0010\n",
            "Epoch 26/100\n",
            "225/224 [==============================] - ETA: 0s - loss: 0.9810 - accuracy: 0.6342\n",
            "Epoch 00026: val_accuracy did not improve from 0.59794\n",
            "224/224 [==============================] - 23s 103ms/step - loss: 0.9810 - accuracy: 0.6342 - val_loss: 1.1691 - val_accuracy: 0.5620 - lr: 0.0010\n",
            "Epoch 27/100\n",
            "225/224 [==============================] - ETA: 0s - loss: 0.9593 - accuracy: 0.6412\n",
            "Epoch 00027: val_accuracy did not improve from 0.59794\n",
            "224/224 [==============================] - 23s 103ms/step - loss: 0.9593 - accuracy: 0.6412 - val_loss: 1.2001 - val_accuracy: 0.5659 - lr: 0.0010\n",
            "Epoch 28/100\n",
            "225/224 [==============================] - ETA: 0s - loss: 0.9548 - accuracy: 0.6436\n",
            "Epoch 00028: val_accuracy did not improve from 0.59794\n",
            "224/224 [==============================] - 23s 103ms/step - loss: 0.9548 - accuracy: 0.6436 - val_loss: 1.2451 - val_accuracy: 0.5422 - lr: 0.0010\n",
            "Epoch 29/100\n",
            "225/224 [==============================] - ETA: 0s - loss: 0.9491 - accuracy: 0.6438\n",
            "Epoch 00029: val_accuracy did not improve from 0.59794\n",
            "224/224 [==============================] - 23s 103ms/step - loss: 0.9491 - accuracy: 0.6438 - val_loss: 1.1722 - val_accuracy: 0.5690 - lr: 0.0010\n",
            "Epoch 30/100\n",
            "225/224 [==============================] - ETA: 0s - loss: 0.9353 - accuracy: 0.6506\n",
            "Epoch 00030: val_accuracy improved from 0.59794 to 0.60825, saving model to best_model.hdf5\n",
            "224/224 [==============================] - 23s 103ms/step - loss: 0.9353 - accuracy: 0.6506 - val_loss: 1.0656 - val_accuracy: 0.6082 - lr: 0.0010\n",
            "Epoch 31/100\n",
            "225/224 [==============================] - ETA: 0s - loss: 0.9326 - accuracy: 0.6504\n",
            "Epoch 00031: val_accuracy did not improve from 0.60825\n",
            "224/224 [==============================] - 23s 104ms/step - loss: 0.9326 - accuracy: 0.6504 - val_loss: 1.0898 - val_accuracy: 0.5929 - lr: 0.0010\n",
            "Epoch 32/100\n",
            "225/224 [==============================] - ETA: 0s - loss: 0.9248 - accuracy: 0.6539\n",
            "Epoch 00032: val_accuracy did not improve from 0.60825\n",
            "224/224 [==============================] - 23s 104ms/step - loss: 0.9248 - accuracy: 0.6539 - val_loss: 1.1045 - val_accuracy: 0.5915 - lr: 0.0010\n",
            "Epoch 33/100\n",
            "225/224 [==============================] - ETA: 0s - loss: 0.9128 - accuracy: 0.6602\n",
            "Epoch 00033: val_accuracy did not improve from 0.60825\n",
            "224/224 [==============================] - 23s 103ms/step - loss: 0.9128 - accuracy: 0.6602 - val_loss: 1.2447 - val_accuracy: 0.5514 - lr: 0.0010\n",
            "Epoch 34/100\n",
            "225/224 [==============================] - ETA: 0s - loss: 0.9077 - accuracy: 0.6626\n",
            "Epoch 00034: val_accuracy improved from 0.60825 to 0.61688, saving model to best_model.hdf5\n",
            "224/224 [==============================] - 24s 105ms/step - loss: 0.9077 - accuracy: 0.6626 - val_loss: 1.0640 - val_accuracy: 0.6169 - lr: 0.0010\n",
            "Epoch 35/100\n",
            "225/224 [==============================] - ETA: 0s - loss: 0.8974 - accuracy: 0.6675\n",
            "Epoch 00035: val_accuracy did not improve from 0.61688\n",
            "224/224 [==============================] - 23s 103ms/step - loss: 0.8974 - accuracy: 0.6675 - val_loss: 1.1219 - val_accuracy: 0.5977 - lr: 0.0010\n",
            "Epoch 36/100\n",
            "225/224 [==============================] - ETA: 0s - loss: 0.8944 - accuracy: 0.6666\n",
            "Epoch 00036: val_accuracy did not improve from 0.61688\n",
            "224/224 [==============================] - 23s 104ms/step - loss: 0.8944 - accuracy: 0.6666 - val_loss: 1.0700 - val_accuracy: 0.6091 - lr: 0.0010\n",
            "Epoch 37/100\n",
            "225/224 [==============================] - ETA: 0s - loss: 0.8777 - accuracy: 0.6765\n",
            "Epoch 00037: val_accuracy did not improve from 0.61688\n",
            "224/224 [==============================] - 23s 104ms/step - loss: 0.8777 - accuracy: 0.6765 - val_loss: 1.1983 - val_accuracy: 0.5634 - lr: 0.0010\n",
            "Epoch 38/100\n",
            "225/224 [==============================] - ETA: 0s - loss: 0.8772 - accuracy: 0.6745\n",
            "Epoch 00038: val_accuracy did not improve from 0.61688\n",
            "224/224 [==============================] - 24s 105ms/step - loss: 0.8772 - accuracy: 0.6745 - val_loss: 1.1117 - val_accuracy: 0.5938 - lr: 0.0010\n",
            "Epoch 39/100\n",
            "225/224 [==============================] - ETA: 0s - loss: 0.8650 - accuracy: 0.6778\n",
            "Epoch 00039: val_accuracy did not improve from 0.61688\n",
            "224/224 [==============================] - 23s 103ms/step - loss: 0.8650 - accuracy: 0.6778 - val_loss: 1.0799 - val_accuracy: 0.6096 - lr: 0.0010\n",
            "Epoch 40/100\n",
            "225/224 [==============================] - ETA: 0s - loss: 0.8635 - accuracy: 0.6810\n",
            "Epoch 00040: val_accuracy did not improve from 0.61688\n",
            "224/224 [==============================] - 23s 104ms/step - loss: 0.8635 - accuracy: 0.6810 - val_loss: 1.1414 - val_accuracy: 0.5768 - lr: 0.0010\n",
            "Epoch 41/100\n",
            "225/224 [==============================] - ETA: 0s - loss: 0.8539 - accuracy: 0.6838\n",
            "Epoch 00041: val_accuracy did not improve from 0.61688\n",
            "224/224 [==============================] - 23s 104ms/step - loss: 0.8539 - accuracy: 0.6838 - val_loss: 1.1918 - val_accuracy: 0.5456 - lr: 0.0010\n",
            "Epoch 42/100\n",
            "225/224 [==============================] - ETA: 0s - loss: 0.8414 - accuracy: 0.6860\n",
            "Epoch 00042: val_accuracy did not improve from 0.61688\n",
            "224/224 [==============================] - 23s 104ms/step - loss: 0.8414 - accuracy: 0.6860 - val_loss: 1.1466 - val_accuracy: 0.5854 - lr: 0.0010\n",
            "Epoch 43/100\n",
            "225/224 [==============================] - ETA: 0s - loss: 0.8369 - accuracy: 0.6911\n",
            "Epoch 00043: val_accuracy did not improve from 0.61688\n",
            "224/224 [==============================] - 23s 103ms/step - loss: 0.8369 - accuracy: 0.6911 - val_loss: 1.2183 - val_accuracy: 0.5631 - lr: 0.0010\n",
            "Epoch 44/100\n",
            "225/224 [==============================] - ETA: 0s - loss: 0.8343 - accuracy: 0.6904\n",
            "Epoch 00044: val_accuracy improved from 0.61688 to 0.62942, saving model to best_model.hdf5\n",
            "224/224 [==============================] - 23s 104ms/step - loss: 0.8343 - accuracy: 0.6904 - val_loss: 1.0293 - val_accuracy: 0.6294 - lr: 0.0010\n",
            "Epoch 45/100\n",
            "225/224 [==============================] - ETA: 0s - loss: 0.8236 - accuracy: 0.6968\n",
            "Epoch 00045: val_accuracy did not improve from 0.62942\n",
            "224/224 [==============================] - 23s 103ms/step - loss: 0.8236 - accuracy: 0.6968 - val_loss: 1.1793 - val_accuracy: 0.5784 - lr: 0.0010\n",
            "Epoch 46/100\n",
            "225/224 [==============================] - ETA: 0s - loss: 0.8177 - accuracy: 0.6994\n",
            "Epoch 00046: val_accuracy did not improve from 0.62942\n",
            "224/224 [==============================] - 23s 103ms/step - loss: 0.8177 - accuracy: 0.6994 - val_loss: 1.0994 - val_accuracy: 0.6032 - lr: 0.0010\n",
            "Epoch 47/100\n",
            "225/224 [==============================] - ETA: 0s - loss: 0.8127 - accuracy: 0.6976\n",
            "Epoch 00047: val_accuracy did not improve from 0.62942\n",
            "224/224 [==============================] - 23s 103ms/step - loss: 0.8127 - accuracy: 0.6976 - val_loss: 1.0851 - val_accuracy: 0.6094 - lr: 0.0010\n",
            "Epoch 48/100\n",
            "225/224 [==============================] - ETA: 0s - loss: 0.8044 - accuracy: 0.7023\n",
            "Epoch 00048: val_accuracy did not improve from 0.62942\n",
            "224/224 [==============================] - 23s 103ms/step - loss: 0.8044 - accuracy: 0.7023 - val_loss: 1.0653 - val_accuracy: 0.6096 - lr: 0.0010\n",
            "Epoch 49/100\n",
            "225/224 [==============================] - ETA: 0s - loss: 0.8009 - accuracy: 0.7028\n",
            "Epoch 00049: val_accuracy improved from 0.62942 to 0.64642, saving model to best_model.hdf5\n",
            "224/224 [==============================] - 24s 106ms/step - loss: 0.8009 - accuracy: 0.7028 - val_loss: 1.0188 - val_accuracy: 0.6464 - lr: 0.0010\n",
            "Epoch 50/100\n",
            "225/224 [==============================] - ETA: 0s - loss: 0.7950 - accuracy: 0.7079\n",
            "Epoch 00050: val_accuracy improved from 0.64642 to 0.65366, saving model to best_model.hdf5\n",
            "224/224 [==============================] - 24s 105ms/step - loss: 0.7950 - accuracy: 0.7079 - val_loss: 0.9910 - val_accuracy: 0.6537 - lr: 0.0010\n",
            "Epoch 51/100\n",
            "225/224 [==============================] - ETA: 0s - loss: 0.7905 - accuracy: 0.7070\n",
            "Epoch 00051: val_accuracy did not improve from 0.65366\n",
            "224/224 [==============================] - 23s 103ms/step - loss: 0.7905 - accuracy: 0.7070 - val_loss: 1.2140 - val_accuracy: 0.5623 - lr: 0.0010\n",
            "Epoch 52/100\n",
            "225/224 [==============================] - ETA: 0s - loss: 0.7823 - accuracy: 0.7126\n",
            "Epoch 00052: val_accuracy did not improve from 0.65366\n",
            "224/224 [==============================] - 23s 104ms/step - loss: 0.7823 - accuracy: 0.7126 - val_loss: 1.1187 - val_accuracy: 0.6063 - lr: 0.0010\n",
            "Epoch 53/100\n",
            "225/224 [==============================] - ETA: 0s - loss: 0.7771 - accuracy: 0.7128\n",
            "Epoch 00053: val_accuracy did not improve from 0.65366\n",
            "224/224 [==============================] - 23s 103ms/step - loss: 0.7771 - accuracy: 0.7128 - val_loss: 1.1336 - val_accuracy: 0.5901 - lr: 0.0010\n",
            "Epoch 54/100\n",
            "225/224 [==============================] - ETA: 0s - loss: 0.7637 - accuracy: 0.7185\n",
            "Epoch 00054: val_accuracy did not improve from 0.65366\n",
            "224/224 [==============================] - 23s 104ms/step - loss: 0.7637 - accuracy: 0.7185 - val_loss: 1.1082 - val_accuracy: 0.6080 - lr: 0.0010\n",
            "Epoch 55/100\n",
            "225/224 [==============================] - ETA: 0s - loss: 0.7654 - accuracy: 0.7168\n",
            "Epoch 00055: val_accuracy did not improve from 0.65366\n",
            "224/224 [==============================] - 23s 104ms/step - loss: 0.7654 - accuracy: 0.7168 - val_loss: 1.0145 - val_accuracy: 0.6350 - lr: 0.0010\n",
            "Epoch 56/100\n",
            "225/224 [==============================] - ETA: 0s - loss: 0.7601 - accuracy: 0.7190\n",
            "Epoch 00056: val_accuracy did not improve from 0.65366\n",
            "224/224 [==============================] - 23s 103ms/step - loss: 0.7601 - accuracy: 0.7190 - val_loss: 1.1679 - val_accuracy: 0.5871 - lr: 0.0010\n",
            "Epoch 57/100\n",
            "225/224 [==============================] - ETA: 0s - loss: 0.7567 - accuracy: 0.7213\n",
            "Epoch 00057: val_accuracy did not improve from 0.65366\n",
            "224/224 [==============================] - 23s 103ms/step - loss: 0.7567 - accuracy: 0.7213 - val_loss: 1.0799 - val_accuracy: 0.6174 - lr: 0.0010\n",
            "Epoch 58/100\n",
            "225/224 [==============================] - ETA: 0s - loss: 0.7444 - accuracy: 0.7242\n",
            "Epoch 00058: val_accuracy did not improve from 0.65366\n",
            "224/224 [==============================] - 23s 103ms/step - loss: 0.7444 - accuracy: 0.7242 - val_loss: 0.9972 - val_accuracy: 0.6428 - lr: 0.0010\n",
            "Epoch 59/100\n",
            "225/224 [==============================] - ETA: 0s - loss: 0.7373 - accuracy: 0.7296\n",
            "Epoch 00059: val_accuracy did not improve from 0.65366\n",
            "224/224 [==============================] - 23s 103ms/step - loss: 0.7373 - accuracy: 0.7296 - val_loss: 1.0852 - val_accuracy: 0.6244 - lr: 0.0010\n",
            "Epoch 60/100\n",
            "225/224 [==============================] - ETA: 0s - loss: 0.7358 - accuracy: 0.7294\n",
            "Epoch 00060: val_accuracy did not improve from 0.65366\n",
            "224/224 [==============================] - 23s 102ms/step - loss: 0.7358 - accuracy: 0.7294 - val_loss: 1.0407 - val_accuracy: 0.6297 - lr: 0.0010\n",
            "Epoch 61/100\n",
            "225/224 [==============================] - ETA: 0s - loss: 0.7301 - accuracy: 0.7280\n",
            "Epoch 00061: val_accuracy did not improve from 0.65366\n",
            "224/224 [==============================] - 23s 103ms/step - loss: 0.7301 - accuracy: 0.7280 - val_loss: 1.1441 - val_accuracy: 0.6063 - lr: 0.0010\n",
            "Epoch 62/100\n",
            "225/224 [==============================] - ETA: 0s - loss: 0.7285 - accuracy: 0.7319\n",
            "Epoch 00062: val_accuracy did not improve from 0.65366\n",
            "224/224 [==============================] - 23s 102ms/step - loss: 0.7285 - accuracy: 0.7319 - val_loss: 1.0609 - val_accuracy: 0.6291 - lr: 0.0010\n",
            "Epoch 63/100\n",
            "225/224 [==============================] - ETA: 0s - loss: 0.7210 - accuracy: 0.7337\n",
            "Epoch 00063: val_accuracy did not improve from 0.65366\n",
            "224/224 [==============================] - 23s 102ms/step - loss: 0.7210 - accuracy: 0.7337 - val_loss: 1.1198 - val_accuracy: 0.6032 - lr: 0.0010\n",
            "Epoch 64/100\n",
            "225/224 [==============================] - ETA: 0s - loss: 0.7175 - accuracy: 0.7379\n",
            "Epoch 00064: val_accuracy did not improve from 0.65366\n",
            "224/224 [==============================] - 23s 103ms/step - loss: 0.7175 - accuracy: 0.7379 - val_loss: 1.1591 - val_accuracy: 0.5907 - lr: 0.0010\n",
            "Epoch 00064: early stopping\n"
          ]
        }
      ]
    },
    {
      "cell_type": "code",
      "source": [
        "# Loading the best fit model \n",
        "from keras.models import load_model\n",
        "model = load_model(\"/content/best_model.hdf5\")"
      ],
      "metadata": {
        "id": "aBMFewqv56BH"
      },
      "execution_count": 24,
      "outputs": []
    },
    {
      "cell_type": "code",
      "source": [
        "h =  history.history\n",
        "h.keys()"
      ],
      "metadata": {
        "colab": {
          "base_uri": "https://localhost:8080/"
        },
        "id": "HsJOJVQD56uj",
        "outputId": "f803c644-8cc7-4669-bd54-d9d974ce2fc3"
      },
      "execution_count": 25,
      "outputs": [
        {
          "output_type": "execute_result",
          "data": {
            "text/plain": [
              "dict_keys(['loss', 'accuracy', 'val_loss', 'val_accuracy', 'lr'])"
            ]
          },
          "metadata": {},
          "execution_count": 25
        }
      ]
    },
    {
      "cell_type": "code",
      "source": [
        "plt.plot(h['accuracy'], label='train_acc')\n",
        "plt.plot(h['val_accuracy'] , label='val_acc', c = \"red\")\n",
        "plt.title(\"acc vs v-acc\")\n",
        "plt.legend()\n",
        "plt.show()"
      ],
      "metadata": {
        "id": "1g1gG8o-56sT",
        "colab": {
          "base_uri": "https://localhost:8080/",
          "height": 281
        },
        "outputId": "4408e813-9c73-4824-aaf9-d7af912c6a17"
      },
      "execution_count": 28,
      "outputs": [
        {
          "output_type": "display_data",
          "data": {
            "image/png": "[encoded data removed]",
            "text/plain": [
              "<Figure size 432x288 with 1 Axes>"
            ]
          },
          "metadata": {
            "needs_background": "light"
          }
        }
      ]
    },
    {
      "cell_type": "code",
      "source": [
        "plt.plot(h['loss'], label='train_loss')\n",
        "plt.plot(h['val_loss'], label='val_loss' , c = \"red\")\n",
        "plt.title(\"loss vs v-loss\")\n",
        "plt.legend()\n",
        "plt.show()"
      ],
      "metadata": {
        "id": "NLi0BFEl5_26",
        "colab": {
          "base_uri": "https://localhost:8080/",
          "height": 281
        },
        "outputId": "ac757b57-e92f-42cf-b531-946cfe470930"
      },
      "execution_count": 30,
      "outputs": [
        {
          "output_type": "display_data",
          "data": {
            "image/png": "[encoded data removed]",
            "text/plain": [
              "<Figure size 432x288 with 1 Axes>"
            ]
          },
          "metadata": {
            "needs_background": "light"
          }
        }
      ]
    },
    {
      "cell_type": "code",
      "source": [
        "from keras.models import Model, model_from_json\n",
        "model_json = model.to_json()\n",
        "with open(\"model.json\", \"w\") as json_file:\n",
        "    json_file.write(model_json)\n",
        "model.save_weights(\"model.h5\")\n",
        "print(\"Saved model to disk\")"
      ],
      "metadata": {
        "id": "dxZvd8a5k4F-",
        "outputId": "beadeeb6-b7d8-4652-e93a-38fdc6287100",
        "colab": {
          "base_uri": "https://localhost:8080/"
        }
      },
      "execution_count": 31,
      "outputs": [
        {
          "output_type": "stream",
          "name": "stdout",
          "text": [
            "Saved model to disk\n"
          ]
        }
      ]
    }
  ]
}